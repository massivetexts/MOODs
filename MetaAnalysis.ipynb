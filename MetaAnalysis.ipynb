{
 "cells": [
  {
   "cell_type": "markdown",
   "metadata": {},
   "source": [
    "## Metadata Analysis"
   ]
  },
  {
   "cell_type": "code",
   "execution_count": 52,
   "metadata": {},
   "outputs": [],
   "source": [
    "import pandas as pd\n",
    "import altair as alt"
   ]
  },
  {
   "cell_type": "code",
   "execution_count": 77,
   "metadata": {},
   "outputs": [
    {
     "name": "stdout",
     "output_type": "stream",
     "text": [
      "9223\n"
     ]
    },
    {
     "data": {
      "text/html": [
       "<div>\n",
       "<style scoped>\n",
       "    .dataframe tbody tr th:only-of-type {\n",
       "        vertical-align: middle;\n",
       "    }\n",
       "\n",
       "    .dataframe tbody tr th {\n",
       "        vertical-align: top;\n",
       "    }\n",
       "\n",
       "    .dataframe thead th {\n",
       "        text-align: right;\n",
       "    }\n",
       "</style>\n",
       "<table border=\"1\" class=\"dataframe\">\n",
       "  <thead>\n",
       "    <tr style=\"text-align: right;\">\n",
       "      <th></th>\n",
       "      <th>legislation_number</th>\n",
       "      <th>url</th>\n",
       "      <th>congress</th>\n",
       "      <th>amends_bill</th>\n",
       "      <th>title</th>\n",
       "      <th>sponsor</th>\n",
       "      <th>date_of_introduction</th>\n",
       "      <th>date_offered</th>\n",
       "      <th>date_submitted</th>\n",
       "      <th>date_proposed</th>\n",
       "      <th>number_of_cosponsors</th>\n",
       "      <th>committees</th>\n",
       "      <th>latest_action_date</th>\n",
       "      <th>latest_action</th>\n",
       "      <th>subject</th>\n",
       "      <th>sponsor_party</th>\n",
       "    </tr>\n",
       "    <tr>\n",
       "      <th>id</th>\n",
       "      <th></th>\n",
       "      <th></th>\n",
       "      <th></th>\n",
       "      <th></th>\n",
       "      <th></th>\n",
       "      <th></th>\n",
       "      <th></th>\n",
       "      <th></th>\n",
       "      <th></th>\n",
       "      <th></th>\n",
       "      <th></th>\n",
       "      <th></th>\n",
       "      <th></th>\n",
       "      <th></th>\n",
       "      <th></th>\n",
       "      <th></th>\n",
       "    </tr>\n",
       "  </thead>\n",
       "  <tbody>\n",
       "    <tr>\n",
       "      <th>115 H.R. 3823</th>\n",
       "      <td>H.R. 3823</td>\n",
       "      <td>https://www.congress.gov/bill/115th-congress/h...</td>\n",
       "      <td>115th Congress (2017-2018)</td>\n",
       "      <td>NaN</td>\n",
       "      <td>Disaster Tax Relief and Airport and Airway Ext...</td>\n",
       "      <td>Rep. Brady, Kevin [R-TX-8]</td>\n",
       "      <td>09/25/2017</td>\n",
       "      <td>NaN</td>\n",
       "      <td>NaN</td>\n",
       "      <td>NaN</td>\n",
       "      <td>2</td>\n",
       "      <td>House - Ways and Means, Transportation and Inf...</td>\n",
       "      <td>09/29/2017</td>\n",
       "      <td>Became Public Law No: 115-63.</td>\n",
       "      <td>Taxation</td>\n",
       "      <td>R</td>\n",
       "    </tr>\n",
       "    <tr>\n",
       "      <th>115 H.R. 88</th>\n",
       "      <td>H.R. 88</td>\n",
       "      <td>https://www.congress.gov/bill/115th-congress/h...</td>\n",
       "      <td>115th Congress (2017-2018)</td>\n",
       "      <td>NaN</td>\n",
       "      <td>Shiloh National Military Park Boundary Adjustm...</td>\n",
       "      <td>Rep. Blackburn, Marsha [R-TN-7]</td>\n",
       "      <td>01/03/2017</td>\n",
       "      <td>NaN</td>\n",
       "      <td>NaN</td>\n",
       "      <td>NaN</td>\n",
       "      <td>0</td>\n",
       "      <td>House - Natural Resources | Senate - Energy an...</td>\n",
       "      <td>12/21/2018</td>\n",
       "      <td>Message on House action received in Senate and...</td>\n",
       "      <td>Taxation</td>\n",
       "      <td>R</td>\n",
       "    </tr>\n",
       "  </tbody>\n",
       "</table>\n",
       "</div>"
      ],
      "text/plain": [
       "              legislation_number  \\\n",
       "id                                 \n",
       "115 H.R. 3823          H.R. 3823   \n",
       "115 H.R. 88              H.R. 88   \n",
       "\n",
       "                                                             url  \\\n",
       "id                                                                 \n",
       "115 H.R. 3823  https://www.congress.gov/bill/115th-congress/h...   \n",
       "115 H.R. 88    https://www.congress.gov/bill/115th-congress/h...   \n",
       "\n",
       "                                 congress  amends_bill  \\\n",
       "id                                                       \n",
       "115 H.R. 3823  115th Congress (2017-2018)          NaN   \n",
       "115 H.R. 88    115th Congress (2017-2018)          NaN   \n",
       "\n",
       "                                                           title  \\\n",
       "id                                                                 \n",
       "115 H.R. 3823  Disaster Tax Relief and Airport and Airway Ext...   \n",
       "115 H.R. 88    Shiloh National Military Park Boundary Adjustm...   \n",
       "\n",
       "                                       sponsor date_of_introduction  \\\n",
       "id                                                                    \n",
       "115 H.R. 3823       Rep. Brady, Kevin [R-TX-8]           09/25/2017   \n",
       "115 H.R. 88    Rep. Blackburn, Marsha [R-TN-7]           01/03/2017   \n",
       "\n",
       "               date_offered  date_submitted  date_proposed  \\\n",
       "id                                                           \n",
       "115 H.R. 3823           NaN             NaN            NaN   \n",
       "115 H.R. 88             NaN             NaN            NaN   \n",
       "\n",
       "               number_of_cosponsors  \\\n",
       "id                                    \n",
       "115 H.R. 3823                     2   \n",
       "115 H.R. 88                       0   \n",
       "\n",
       "                                                      committees  \\\n",
       "id                                                                 \n",
       "115 H.R. 3823  House - Ways and Means, Transportation and Inf...   \n",
       "115 H.R. 88    House - Natural Resources | Senate - Energy an...   \n",
       "\n",
       "              latest_action_date  \\\n",
       "id                                 \n",
       "115 H.R. 3823         09/29/2017   \n",
       "115 H.R. 88           12/21/2018   \n",
       "\n",
       "                                                   latest_action   subject  \\\n",
       "id                                                                           \n",
       "115 H.R. 3823                      Became Public Law No: 115-63.  Taxation   \n",
       "115 H.R. 88    Message on House action received in Senate and...  Taxation   \n",
       "\n",
       "              sponsor_party  \n",
       "id                           \n",
       "115 H.R. 3823             R  \n",
       "115 H.R. 88               R  "
      ]
     },
     "execution_count": 77,
     "metadata": {},
     "output_type": "execute_result"
    }
   ],
   "source": [
    "meta = pd.read_csv('bill-meta.csv', index_col='id')\n",
    "print(len(meta))\n",
    "meta.head(2)"
   ]
  },
  {
   "cell_type": "markdown",
   "metadata": {},
   "source": [
    "## Counts per subject"
   ]
  },
  {
   "cell_type": "code",
   "execution_count": 78,
   "metadata": {},
   "outputs": [
    {
     "data": {
      "text/html": [
       "<div>\n",
       "<style scoped>\n",
       "    .dataframe tbody tr th:only-of-type {\n",
       "        vertical-align: middle;\n",
       "    }\n",
       "\n",
       "    .dataframe tbody tr th {\n",
       "        vertical-align: top;\n",
       "    }\n",
       "\n",
       "    .dataframe thead th {\n",
       "        text-align: right;\n",
       "    }\n",
       "</style>\n",
       "<table border=\"1\" class=\"dataframe\">\n",
       "  <thead>\n",
       "    <tr style=\"text-align: right;\">\n",
       "      <th></th>\n",
       "      <th>subject</th>\n",
       "      <th>sponsor_party</th>\n",
       "      <th>count</th>\n",
       "    </tr>\n",
       "  </thead>\n",
       "  <tbody>\n",
       "    <tr>\n",
       "      <th>0</th>\n",
       "      <td>Agriculture and Food</td>\n",
       "      <td>D</td>\n",
       "      <td>180</td>\n",
       "    </tr>\n",
       "    <tr>\n",
       "      <th>1</th>\n",
       "      <td>Agriculture and Food</td>\n",
       "      <td>I</td>\n",
       "      <td>1</td>\n",
       "    </tr>\n",
       "  </tbody>\n",
       "</table>\n",
       "</div>"
      ],
      "text/plain": [
       "                subject sponsor_party  count\n",
       "0  Agriculture and Food             D    180\n",
       "1  Agriculture and Food             I      1"
      ]
     },
     "execution_count": 78,
     "metadata": {},
     "output_type": "execute_result"
    }
   ],
   "source": [
    "data = meta.groupby(['subject', 'sponsor_party']).size().to_frame('count').reset_index()\n",
    "data.head(2)"
   ]
  },
  {
   "cell_type": "code",
   "execution_count": 79,
   "metadata": {},
   "outputs": [
    {
     "data": {
      "application/vnd.vegalite.v3+json": {
       "$schema": "https://vega.github.io/schema/vega-lite/v3.3.0.json",
       "config": {
        "mark": {
         "tooltip": null
        },
        "view": {
         "height": 300,
         "width": 400
        }
       },
       "data": {
        "name": "data-2c26e82ba66c93cf95911c6433e8dba5"
       },
       "datasets": {
        "data-2c26e82ba66c93cf95911c6433e8dba5": [
         {
          "count": 180,
          "sponsor_party": "D",
          "subject": "Agriculture and Food"
         },
         {
          "count": 1,
          "sponsor_party": "I",
          "subject": "Agriculture and Food"
         },
         {
          "count": 85,
          "sponsor_party": "R",
          "subject": "Agriculture and Food"
         },
         {
          "count": 33,
          "sponsor_party": "D",
          "subject": "Animals"
         },
         {
          "count": 34,
          "sponsor_party": "R",
          "subject": "Animals"
         },
         {
          "count": 417,
          "sponsor_party": "D",
          "subject": "Armed Forces and National Security"
         },
         {
          "count": 2,
          "sponsor_party": "I",
          "subject": "Armed Forces and National Security"
         },
         {
          "count": 269,
          "sponsor_party": "R",
          "subject": "Armed Forces and National Security"
         },
         {
          "count": 49,
          "sponsor_party": "D",
          "subject": "Arts, Culture, Religion"
         },
         {
          "count": 41,
          "sponsor_party": "R",
          "subject": "Arts, Culture, Religion"
         },
         {
          "count": 37,
          "sponsor_party": "D",
          "subject": "Civil Rights and Liberties, Minority Issues"
         },
         {
          "count": 13,
          "sponsor_party": "R",
          "subject": "Civil Rights and Liberties, Minority Issues"
         },
         {
          "count": 160,
          "sponsor_party": "D",
          "subject": "Commerce"
         },
         {
          "count": 114,
          "sponsor_party": "R",
          "subject": "Commerce"
         },
         {
          "count": 62,
          "sponsor_party": "D",
          "subject": "Congress"
         },
         {
          "count": 41,
          "sponsor_party": "R",
          "subject": "Congress"
         },
         {
          "count": 158,
          "sponsor_party": "D",
          "subject": "Crime and Law Enforcement"
         },
         {
          "count": 175,
          "sponsor_party": "R",
          "subject": "Crime and Law Enforcement"
         },
         {
          "count": 343,
          "sponsor_party": "D",
          "subject": "Economics and Public Finance"
         },
         {
          "count": 150,
          "sponsor_party": "R",
          "subject": "Economics and Public Finance"
         },
         {
          "count": 113,
          "sponsor_party": "D",
          "subject": "Education"
         },
         {
          "count": 68,
          "sponsor_party": "R",
          "subject": "Education"
         },
         {
          "count": 45,
          "sponsor_party": "D",
          "subject": "Emergency Management"
         },
         {
          "count": 71,
          "sponsor_party": "R",
          "subject": "Emergency Management"
         },
         {
          "count": 139,
          "sponsor_party": "D",
          "subject": "Energy"
         },
         {
          "count": 99,
          "sponsor_party": "R",
          "subject": "Energy"
         },
         {
          "count": 125,
          "sponsor_party": "D",
          "subject": "Environmental Protection"
         },
         {
          "count": 66,
          "sponsor_party": "R",
          "subject": "Environmental Protection"
         },
         {
          "count": 25,
          "sponsor_party": "D",
          "subject": "Families"
         },
         {
          "count": 18,
          "sponsor_party": "R",
          "subject": "Families"
         },
         {
          "count": 148,
          "sponsor_party": "D",
          "subject": "Finance and Financial Sector"
         },
         {
          "count": 105,
          "sponsor_party": "R",
          "subject": "Finance and Financial Sector"
         },
         {
          "count": 122,
          "sponsor_party": "D",
          "subject": "Foreign Trade and International Finance"
         },
         {
          "count": 69,
          "sponsor_party": "R",
          "subject": "Foreign Trade and International Finance"
         },
         {
          "count": 926,
          "sponsor_party": "D",
          "subject": "Government Operations and Politics"
         },
         {
          "count": 3,
          "sponsor_party": "I",
          "subject": "Government Operations and Politics"
         },
         {
          "count": 540,
          "sponsor_party": "R",
          "subject": "Government Operations and Politics"
         },
         {
          "count": 218,
          "sponsor_party": "D",
          "subject": "Health"
         },
         {
          "count": 1,
          "sponsor_party": "I",
          "subject": "Health"
         },
         {
          "count": 176,
          "sponsor_party": "R",
          "subject": "Health"
         },
         {
          "count": 55,
          "sponsor_party": "D",
          "subject": "Housing and Community Development"
         },
         {
          "count": 22,
          "sponsor_party": "R",
          "subject": "Housing and Community Development"
         },
         {
          "count": 55,
          "sponsor_party": "D",
          "subject": "Immigration"
         },
         {
          "count": 60,
          "sponsor_party": "R",
          "subject": "Immigration"
         },
         {
          "count": 210,
          "sponsor_party": "D",
          "subject": "International Affairs"
         },
         {
          "count": 180,
          "sponsor_party": "R",
          "subject": "International Affairs"
         },
         {
          "count": 75,
          "sponsor_party": "D",
          "subject": "Labor and Employment"
         },
         {
          "count": 50,
          "sponsor_party": "R",
          "subject": "Labor and Employment"
         },
         {
          "count": 102,
          "sponsor_party": "D",
          "subject": "Law"
         },
         {
          "count": 1,
          "sponsor_party": "I",
          "subject": "Law"
         },
         {
          "count": 78,
          "sponsor_party": "R",
          "subject": "Law"
         },
         {
          "count": 199,
          "sponsor_party": "D",
          "subject": "Native Americans"
         },
         {
          "count": 189,
          "sponsor_party": "R",
          "subject": "Native Americans"
         },
         {
          "count": 713,
          "sponsor_party": "D",
          "subject": "Public Lands and Natural Resources"
         },
         {
          "count": 2,
          "sponsor_party": "I",
          "subject": "Public Lands and Natural Resources"
         },
         {
          "count": 604,
          "sponsor_party": "R",
          "subject": "Public Lands and Natural Resources"
         },
         {
          "count": 112,
          "sponsor_party": "D",
          "subject": "Science, Technology, Communications"
         },
         {
          "count": 74,
          "sponsor_party": "R",
          "subject": "Science, Technology, Communications"
         },
         {
          "count": 2,
          "sponsor_party": "D",
          "subject": "Social Sciences and History"
         },
         {
          "count": 1,
          "sponsor_party": "R",
          "subject": "Social Sciences and History"
         },
         {
          "count": 66,
          "sponsor_party": "D",
          "subject": "Social Welfare"
         },
         {
          "count": 44,
          "sponsor_party": "R",
          "subject": "Social Welfare"
         },
         {
          "count": 11,
          "sponsor_party": "D",
          "subject": "Sports and Recreation"
         },
         {
          "count": 10,
          "sponsor_party": "R",
          "subject": "Sports and Recreation"
         },
         {
          "count": 98,
          "sponsor_party": "D",
          "subject": "Taxation"
         },
         {
          "count": 74,
          "sponsor_party": "R",
          "subject": "Taxation"
         },
         {
          "count": 288,
          "sponsor_party": "D",
          "subject": "Transportation and Public Works"
         },
         {
          "count": 2,
          "sponsor_party": "I",
          "subject": "Transportation and Public Works"
         },
         {
          "count": 186,
          "sponsor_party": "R",
          "subject": "Transportation and Public Works"
         },
         {
          "count": 92,
          "sponsor_party": "D",
          "subject": "Water Resources Development"
         },
         {
          "count": 118,
          "sponsor_party": "R",
          "subject": "Water Resources Development"
         }
        ]
       },
       "encoding": {
        "color": {
         "field": "sponsor_party",
         "type": "nominal"
        },
        "order": {
         "field": "sponsor_party",
         "sort": "descending",
         "type": "nominal"
        },
        "x": {
         "aggregate": "sum",
         "field": "count",
         "type": "quantitative"
        },
        "y": {
         "field": "subject",
         "sort": {
          "field": "count",
          "op": "sum"
         },
         "type": "nominal"
        }
       },
       "mark": "bar"
      },
      "image/png": "[encoded data removed]",
      "text/plain": [
       "<VegaLite 3 object>\n",
       "\n",
       "If you see this message, it means the renderer has not been properly enabled\n",
       "for the frontend that you are using. For more information, see\n",
       "https://altair-viz.github.io/user_guide/troubleshooting.html\n"
      ]
     },
     "execution_count": 79,
     "metadata": {},
     "output_type": "execute_result"
    }
   ],
   "source": [
    "alt.Chart(data).mark_bar().encode(\n",
    "    x = 'sum(count):Q',\n",
    "    y = alt.Y('subject:N', sort=alt.EncodingSortField(field='count', op='sum')),\n",
    "    color='sponsor_party:N',\n",
    "    order=alt.Order(\"sponsor_party\", sort='descending')\n",
    ")"
   ]
  },
  {
   "cell_type": "code",
   "execution_count": 80,
   "metadata": {},
   "outputs": [
    {
     "data": {
      "text/html": [
       "<div>\n",
       "<style scoped>\n",
       "    .dataframe tbody tr th:only-of-type {\n",
       "        vertical-align: middle;\n",
       "    }\n",
       "\n",
       "    .dataframe tbody tr th {\n",
       "        vertical-align: top;\n",
       "    }\n",
       "\n",
       "    .dataframe thead th {\n",
       "        text-align: right;\n",
       "    }\n",
       "</style>\n",
       "<table border=\"1\" class=\"dataframe\">\n",
       "  <thead>\n",
       "    <tr style=\"text-align: right;\">\n",
       "      <th></th>\n",
       "      <th>subject</th>\n",
       "      <th>sponsor_party</th>\n",
       "      <th>0</th>\n",
       "      <th>% sponsored</th>\n",
       "    </tr>\n",
       "  </thead>\n",
       "  <tbody>\n",
       "    <tr>\n",
       "      <th>26</th>\n",
       "      <td>Families</td>\n",
       "      <td>D</td>\n",
       "      <td>25</td>\n",
       "      <td>0.581395</td>\n",
       "    </tr>\n",
       "    <tr>\n",
       "      <th>10</th>\n",
       "      <td>Commerce</td>\n",
       "      <td>D</td>\n",
       "      <td>160</td>\n",
       "      <td>0.583942</td>\n",
       "    </tr>\n",
       "    <tr>\n",
       "      <th>22</th>\n",
       "      <td>Energy</td>\n",
       "      <td>D</td>\n",
       "      <td>139</td>\n",
       "      <td>0.584034</td>\n",
       "    </tr>\n",
       "    <tr>\n",
       "      <th>28</th>\n",
       "      <td>Finance and Financial Sector</td>\n",
       "      <td>D</td>\n",
       "      <td>148</td>\n",
       "      <td>0.584980</td>\n",
       "    </tr>\n",
       "    <tr>\n",
       "      <th>54</th>\n",
       "      <td>Social Welfare</td>\n",
       "      <td>D</td>\n",
       "      <td>66</td>\n",
       "      <td>0.600000</td>\n",
       "    </tr>\n",
       "    <tr>\n",
       "      <th>42</th>\n",
       "      <td>Labor and Employment</td>\n",
       "      <td>D</td>\n",
       "      <td>75</td>\n",
       "      <td>0.600000</td>\n",
       "    </tr>\n",
       "    <tr>\n",
       "      <th>12</th>\n",
       "      <td>Congress</td>\n",
       "      <td>D</td>\n",
       "      <td>62</td>\n",
       "      <td>0.601942</td>\n",
       "    </tr>\n",
       "    <tr>\n",
       "      <th>50</th>\n",
       "      <td>Science, Technology, Communications</td>\n",
       "      <td>D</td>\n",
       "      <td>112</td>\n",
       "      <td>0.602151</td>\n",
       "    </tr>\n",
       "    <tr>\n",
       "      <th>60</th>\n",
       "      <td>Transportation and Public Works</td>\n",
       "      <td>D</td>\n",
       "      <td>288</td>\n",
       "      <td>0.607595</td>\n",
       "    </tr>\n",
       "    <tr>\n",
       "      <th>4</th>\n",
       "      <td>Armed Forces and National Security</td>\n",
       "      <td>D</td>\n",
       "      <td>417</td>\n",
       "      <td>0.607872</td>\n",
       "    </tr>\n",
       "    <tr>\n",
       "      <th>21</th>\n",
       "      <td>Emergency Management</td>\n",
       "      <td>R</td>\n",
       "      <td>71</td>\n",
       "      <td>0.612069</td>\n",
       "    </tr>\n",
       "    <tr>\n",
       "      <th>18</th>\n",
       "      <td>Education</td>\n",
       "      <td>D</td>\n",
       "      <td>113</td>\n",
       "      <td>0.624309</td>\n",
       "    </tr>\n",
       "    <tr>\n",
       "      <th>32</th>\n",
       "      <td>Government Operations and Politics</td>\n",
       "      <td>D</td>\n",
       "      <td>926</td>\n",
       "      <td>0.631651</td>\n",
       "    </tr>\n",
       "    <tr>\n",
       "      <th>30</th>\n",
       "      <td>Foreign Trade and International Finance</td>\n",
       "      <td>D</td>\n",
       "      <td>122</td>\n",
       "      <td>0.638743</td>\n",
       "    </tr>\n",
       "    <tr>\n",
       "      <th>24</th>\n",
       "      <td>Environmental Protection</td>\n",
       "      <td>D</td>\n",
       "      <td>125</td>\n",
       "      <td>0.654450</td>\n",
       "    </tr>\n",
       "    <tr>\n",
       "      <th>52</th>\n",
       "      <td>Social Sciences and History</td>\n",
       "      <td>D</td>\n",
       "      <td>2</td>\n",
       "      <td>0.666667</td>\n",
       "    </tr>\n",
       "    <tr>\n",
       "      <th>0</th>\n",
       "      <td>Agriculture and Food</td>\n",
       "      <td>D</td>\n",
       "      <td>180</td>\n",
       "      <td>0.679245</td>\n",
       "    </tr>\n",
       "    <tr>\n",
       "      <th>16</th>\n",
       "      <td>Economics and Public Finance</td>\n",
       "      <td>D</td>\n",
       "      <td>343</td>\n",
       "      <td>0.695740</td>\n",
       "    </tr>\n",
       "    <tr>\n",
       "      <th>36</th>\n",
       "      <td>Housing and Community Development</td>\n",
       "      <td>D</td>\n",
       "      <td>55</td>\n",
       "      <td>0.714286</td>\n",
       "    </tr>\n",
       "    <tr>\n",
       "      <th>8</th>\n",
       "      <td>Civil Rights and Liberties, Minority Issues</td>\n",
       "      <td>D</td>\n",
       "      <td>37</td>\n",
       "      <td>0.740000</td>\n",
       "    </tr>\n",
       "  </tbody>\n",
       "</table>\n",
       "</div>"
      ],
      "text/plain": [
       "                                        subject sponsor_party    0  \\\n",
       "26                                     Families             D   25   \n",
       "10                                     Commerce             D  160   \n",
       "22                                       Energy             D  139   \n",
       "28                 Finance and Financial Sector             D  148   \n",
       "54                               Social Welfare             D   66   \n",
       "42                         Labor and Employment             D   75   \n",
       "12                                     Congress             D   62   \n",
       "50          Science, Technology, Communications             D  112   \n",
       "60              Transportation and Public Works             D  288   \n",
       "4            Armed Forces and National Security             D  417   \n",
       "21                         Emergency Management             R   71   \n",
       "18                                    Education             D  113   \n",
       "32           Government Operations and Politics             D  926   \n",
       "30      Foreign Trade and International Finance             D  122   \n",
       "24                     Environmental Protection             D  125   \n",
       "52                  Social Sciences and History             D    2   \n",
       "0                          Agriculture and Food             D  180   \n",
       "16                 Economics and Public Finance             D  343   \n",
       "36            Housing and Community Development             D   55   \n",
       "8   Civil Rights and Liberties, Minority Issues             D   37   \n",
       "\n",
       "    % sponsored  \n",
       "26     0.581395  \n",
       "10     0.583942  \n",
       "22     0.584034  \n",
       "28     0.584980  \n",
       "54     0.600000  \n",
       "42     0.600000  \n",
       "12     0.601942  \n",
       "50     0.602151  \n",
       "60     0.607595  \n",
       "4      0.607872  \n",
       "21     0.612069  \n",
       "18     0.624309  \n",
       "32     0.631651  \n",
       "30     0.638743  \n",
       "24     0.654450  \n",
       "52     0.666667  \n",
       "0      0.679245  \n",
       "16     0.695740  \n",
       "36     0.714286  \n",
       "8      0.740000  "
      ]
     },
     "execution_count": 80,
     "metadata": {},
     "output_type": "execute_result"
    }
   ],
   "source": [
    "by_party = meta.query('sponsor_party != \"I\"').groupby(['subject', 'sponsor_party']).size().reset_index()\n",
    "by_party['% sponsored'] = by_party.groupby('subject').transform(lambda x: x/x.sum())\n",
    "by_party.sort_values('% sponsored').tail(20)"
   ]
  },
  {
   "cell_type": "code",
   "execution_count": null,
   "metadata": {},
   "outputs": [],
   "source": []
  }
 ],
 "metadata": {
  "kernelspec": {
   "display_name": "Python 3",
   "language": "python",
   "name": "python3"
  },
  "language_info": {
   "codemirror_mode": {
    "name": "ipython",
    "version": 3
   },
   "file_extension": ".py",
   "mimetype": "text/x-python",
   "name": "python",
   "nbconvert_exporter": "python",
   "pygments_lexer": "ipython3",
   "version": "3.6.7"
  }
 },
 "nbformat": 4,
 "nbformat_minor": 4
}
