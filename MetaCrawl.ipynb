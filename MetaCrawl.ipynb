{
 "cells": [
  {
   "cell_type": "markdown",
   "metadata": {},
   "source": [
    "## Downloading Metadata for Congressional Bills"
   ]
  },
  {
   "cell_type": "code",
   "execution_count": 1,
   "metadata": {
    "colab": {},
    "colab_type": "code",
    "id": "rR4p5MbHO5pC"
   },
   "outputs": [],
   "source": [
    "import pandas as pd\n",
    "import time\n",
    "import urllib\n",
    "import json"
   ]
  },
  {
   "cell_type": "markdown",
   "metadata": {
    "colab_type": "text",
    "id": "GioQgGdLO5pK"
   },
   "source": [
    "You need a user string to download CSVs. Go to a search page on Congress.gov, click \"Download\", and copy the\n",
    "url to the tempalte_url below."
   ]
  },
  {
   "cell_type": "code",
   "execution_count": 2,
   "metadata": {
    "colab": {},
    "colab_type": "code",
    "id": "ImEY2D__O5pM"
   },
   "outputs": [],
   "source": [
    "# Template URL\n",
    "template_url = \"https://www.congress.gov/search?pageSize=25&q=%7B%22source%22%3A%22legislation%22%2C%22bill-status%22%3A%22law%22%2C%22type%22%3A%22bills%22%2C%22congress%22%3A%22110%22%7D&1ddcb92ade31c8fbd370001f9b29a7d9=628cb5675ff524f3e719b7aa2e88fe3f\"\n",
    "template_url = urllib.parse.urlparse(template_url)\n",
    "\n",
    "# Change args and reencode\n",
    "def construct_url(params, template_url=template_url):\n",
    "    args = dict(urllib.parse.parse_qsl(template_url.query))\n",
    "    args['q'] = json.dumps(params)\n",
    "    parts = list(template_url)\n",
    "    parts[4] = urllib.parse.urlencode(tuple(dict(args).items()))\n",
    "    return urllib.parse.urlunparse(parts)\n",
    "\n",
    "def url_to_df(url, add_cols = None):\n",
    "    # Need header else rejected\n",
    "    headers = {\"User-Agent\": 'Mozilla/5.0 (Windows; U; Windows NT 5.1; en-US; rv:1.9.0.7) Gecko/2009021910 Firefox/3.0.7'}\n",
    "    request = urllib.request.Request(url,None,headers)\n",
    "    response = urllib.request.urlopen(request)\n",
    "    # Skip info in csv before the data\n",
    "    df = pd.read_csv(response, skiprows=3)\n",
    "    #data = response.read()\n",
    "    if add_cols:\n",
    "      for colname, val in add_cols:\n",
    "        df[colname] = [val] * len(df)\n",
    "    return df\n",
    "  \n",
    "opts = dict(\n",
    "type = [['bills'], ['resolutions', 'joint-resolutions', 'concurrent-resolutions']],\n",
    "chamber = [\"House\", \"Senate\"],\n",
    "party = [['Democratic'], ['Republican', 'Independent', 'Independent Democrat']],\n",
    "subject = ['Taxation', 'Government Operations and Politics', 'Health', 'Congress', 'Armed Forces and National Security', 'Foreign Trade and International Finance', 'International Affairs', 'Public Lands and Natural Resources', 'Crime and Law Enforcement', 'Transportation and Public Works', 'Social Welfare', 'Education', 'Energy', 'Agriculture and Food', 'Economics and Public Finance', 'Labor and Employment', 'Environmental Protection', 'Finance and Financial Sector', 'Commerce', 'Science, Technology, Communications', 'Immigration', 'Law', 'Housing and Community Development', 'Water Resources Development', 'Native Americans', 'Civil Rights and Liberties, Minority Issues', 'Emergency Management', 'Families', 'Animals', 'Arts, Culture, Religion', 'Sports and Recreation', 'Social Sciences and History']\n",
    ")"
   ]
  },
  {
   "cell_type": "markdown",
   "metadata": {
    "colab_type": "text",
    "id": "DLG5wHnd2YZo"
   },
   "source": [
    "Order:\n",
    "  - type:bills, source:legislation, bill-status: passed-both\n",
    "  - subject\n",
    "     - (for three cases where >1000 rows) party"
   ]
  },
  {
   "cell_type": "code",
   "execution_count": 3,
   "metadata": {
    "colab": {
     "base_uri": "https://localhost:8080/",
     "height": 1064
    },
    "colab_type": "code",
    "id": "_P4nDKfS2bLz",
    "outputId": "6f5b9c22-cfc0-46d0-de75-b168c50cb6e4"
   },
   "outputs": [
    {
     "name": "stdout",
     "output_type": "stream",
     "text": [
      "Subject: Taxation\n",
      "Subject: Government Operations and Politics\n",
      "\tParty ['Democratic']\n",
      "\tParty ['Republican', 'Independent', 'Independent Democrat']\n",
      "Subject: Health\n",
      "Subject: Congress\n",
      "Subject: Armed Forces and National Security\n",
      "Subject: Foreign Trade and International Finance\n",
      "Subject: International Affairs\n",
      "Subject: Public Lands and Natural Resources\n",
      "\tParty ['Democratic']\n",
      "\tParty ['Republican', 'Independent', 'Independent Democrat']\n",
      "Subject: Crime and Law Enforcement\n",
      "Subject: Transportation and Public Works\n",
      "Subject: Social Welfare\n",
      "Subject: Education\n",
      "Subject: Energy\n",
      "Subject: Agriculture and Food\n",
      "Subject: Economics and Public Finance\n",
      "Subject: Labor and Employment\n",
      "Subject: Environmental Protection\n",
      "Subject: Finance and Financial Sector\n",
      "Subject: Commerce\n",
      "Subject: Science, Technology, Communications\n",
      "Subject: Immigration\n",
      "Subject: Law\n",
      "Subject: Housing and Community Development\n",
      "Subject: Water Resources Development\n",
      "Subject: Native Americans\n",
      "Subject: Civil Rights and Liberties, Minority Issues\n",
      "Subject: Emergency Management\n",
      "Subject: Families\n",
      "Subject: Animals\n",
      "Subject: Arts, Culture, Religion\n",
      "Subject: Sports and Recreation\n",
      "Subject: Social Sciences and History\n"
     ]
    },
    {
     "data": {
      "text/html": [
       "<div>\n",
       "<style scoped>\n",
       "    .dataframe tbody tr th:only-of-type {\n",
       "        vertical-align: middle;\n",
       "    }\n",
       "\n",
       "    .dataframe tbody tr th {\n",
       "        vertical-align: top;\n",
       "    }\n",
       "\n",
       "    .dataframe thead th {\n",
       "        text-align: right;\n",
       "    }\n",
       "</style>\n",
       "<table border=\"1\" class=\"dataframe\">\n",
       "  <thead>\n",
       "    <tr style=\"text-align: right;\">\n",
       "      <th></th>\n",
       "      <th>Legislation Number</th>\n",
       "      <th>URL</th>\n",
       "      <th>Congress</th>\n",
       "      <th>Amends Bill</th>\n",
       "      <th>Title</th>\n",
       "      <th>Sponsor</th>\n",
       "      <th>Date of Introduction</th>\n",
       "      <th>Date Offered</th>\n",
       "      <th>Date Submitted</th>\n",
       "      <th>Date Proposed</th>\n",
       "      <th>Number of Cosponsors</th>\n",
       "      <th>Committees</th>\n",
       "      <th>Latest Action Date</th>\n",
       "      <th>Latest Action</th>\n",
       "      <th>Subject</th>\n",
       "    </tr>\n",
       "  </thead>\n",
       "  <tbody>\n",
       "    <tr>\n",
       "      <th>207</th>\n",
       "      <td>H.R. 3547</td>\n",
       "      <td>https://www.congress.gov/bill/111th-congress/h...</td>\n",
       "      <td>111th Congress (2009-2010)</td>\n",
       "      <td>NaN</td>\n",
       "      <td>To designate the facility of the United States...</td>\n",
       "      <td>Rep. Chaffetz, Jason [R-UT-3]</td>\n",
       "      <td>09/10/2009</td>\n",
       "      <td>NaN</td>\n",
       "      <td>NaN</td>\n",
       "      <td>NaN</td>\n",
       "      <td>2</td>\n",
       "      <td>House - Oversight and Government Reform | Sena...</td>\n",
       "      <td>11/30/2009</td>\n",
       "      <td>Became Public Law No: 111-108.</td>\n",
       "      <td>Government Operations and Politics</td>\n",
       "    </tr>\n",
       "    <tr>\n",
       "      <th>264</th>\n",
       "      <td>H.R. 1426</td>\n",
       "      <td>https://www.congress.gov/bill/99th-congress/ho...</td>\n",
       "      <td>99th Congress (1985-1986)</td>\n",
       "      <td>NaN</td>\n",
       "      <td>Indian Health Care Amendments of 1986</td>\n",
       "      <td>Rep. Udall, Morris K. [D-AZ-2]</td>\n",
       "      <td>03/05/1985</td>\n",
       "      <td>NaN</td>\n",
       "      <td>NaN</td>\n",
       "      <td>NaN</td>\n",
       "      <td>32</td>\n",
       "      <td>House - Energy and Commerce, Interior and Insu...</td>\n",
       "      <td>10/18/1986</td>\n",
       "      <td>Senate concurred in the House amendments to th...</td>\n",
       "      <td>Native Americans</td>\n",
       "    </tr>\n",
       "    <tr>\n",
       "      <th>125</th>\n",
       "      <td>H.R. 355</td>\n",
       "      <td>https://www.congress.gov/bill/102nd-congress/h...</td>\n",
       "      <td>102nd Congress (1991-1992)</td>\n",
       "      <td>NaN</td>\n",
       "      <td>Reclamation States Emergency Drought Relief Ac...</td>\n",
       "      <td>Rep. Lehman, Richard H. [D-CA-18]</td>\n",
       "      <td>01/03/1991</td>\n",
       "      <td>NaN</td>\n",
       "      <td>NaN</td>\n",
       "      <td>NaN</td>\n",
       "      <td>6</td>\n",
       "      <td>House - Interior and Insular Affairs, Merchant...</td>\n",
       "      <td>03/05/1992</td>\n",
       "      <td>Became Public Law No: 102-250.</td>\n",
       "      <td>Water Resources Development</td>\n",
       "    </tr>\n",
       "  </tbody>\n",
       "</table>\n",
       "</div>"
      ],
      "text/plain": [
       "    Legislation Number                                                URL  \\\n",
       "207          H.R. 3547  https://www.congress.gov/bill/111th-congress/h...   \n",
       "264          H.R. 1426  https://www.congress.gov/bill/99th-congress/ho...   \n",
       "125           H.R. 355  https://www.congress.gov/bill/102nd-congress/h...   \n",
       "\n",
       "                       Congress  Amends Bill  \\\n",
       "207  111th Congress (2009-2010)          NaN   \n",
       "264   99th Congress (1985-1986)          NaN   \n",
       "125  102nd Congress (1991-1992)          NaN   \n",
       "\n",
       "                                                 Title  \\\n",
       "207  To designate the facility of the United States...   \n",
       "264              Indian Health Care Amendments of 1986   \n",
       "125  Reclamation States Emergency Drought Relief Ac...   \n",
       "\n",
       "                               Sponsor Date of Introduction  Date Offered  \\\n",
       "207      Rep. Chaffetz, Jason [R-UT-3]           09/10/2009           NaN   \n",
       "264     Rep. Udall, Morris K. [D-AZ-2]           03/05/1985           NaN   \n",
       "125  Rep. Lehman, Richard H. [D-CA-18]           01/03/1991           NaN   \n",
       "\n",
       "     Date Submitted  Date Proposed  Number of Cosponsors  \\\n",
       "207             NaN            NaN                     2   \n",
       "264             NaN            NaN                    32   \n",
       "125             NaN            NaN                     6   \n",
       "\n",
       "                                            Committees Latest Action Date  \\\n",
       "207  House - Oversight and Government Reform | Sena...         11/30/2009   \n",
       "264  House - Energy and Commerce, Interior and Insu...         10/18/1986   \n",
       "125  House - Interior and Insular Affairs, Merchant...         03/05/1992   \n",
       "\n",
       "                                         Latest Action  \\\n",
       "207                     Became Public Law No: 111-108.   \n",
       "264  Senate concurred in the House amendments to th...   \n",
       "125                     Became Public Law No: 102-250.   \n",
       "\n",
       "                                Subject  \n",
       "207  Government Operations and Politics  \n",
       "264                    Native Americans  \n",
       "125         Water Resources Development  "
      ]
     },
     "execution_count": 3,
     "metadata": {},
     "output_type": "execute_result"
    }
   ],
   "source": [
    "base_params = {'bill-status': 'passed-both', 'source': 'legislation', 'type': 'bills'}\n",
    "# Other potential statuses: 'law' denotes just the bills that became law, 'introduced'\n",
    "# gets everything. Currently using a medium-wide net with 'passed-both':\n",
    "# bills that passed both chambers\n",
    "\n",
    "all_dfs = []\n",
    "for subject in opts['subject']:\n",
    "    print('Subject:', subject)\n",
    "\n",
    "    params = base_params.copy()\n",
    "    params['subject'] = subject\n",
    "    url = construct_url(params, template_url)\n",
    "    df = url_to_df(url, add_cols=[('Subject', subject)])\n",
    "    if len(df) < 1000:\n",
    "        all_dfs.append(df)\n",
    "        # Wait 10s, easier to interupt this way:\n",
    "        for i in range(10):\n",
    "            time.sleep(1)\n",
    "    else:\n",
    "        for party in opts['party']:\n",
    "            print(\"\\tParty\", party)\n",
    "            params['party'] = party\n",
    "            url = construct_url(params, template_url)\n",
    "            df = url_to_df(url, add_cols=[('Subject', subject)])\n",
    "            if len(df) < 1000:\n",
    "                all_dfs.append(df)\n",
    "                for i in range(10):\n",
    "                    time.sleep(1)\n",
    "            else:\n",
    "                print(\"Still too long:\", subject, party)\n",
    "\n",
    "alldf = pd.concat(all_dfs)\n",
    "alldf.sample(3)"
   ]
  },
  {
   "cell_type": "markdown",
   "metadata": {
    "colab_type": "text",
    "id": "o2cfM9JAXDu6"
   },
   "source": [
    "**Note**: There seem to be bills without subject areas. At the time of writing, congress.gov lists 11,078 Legislation/Bill/Passed Both results, but we only scraped 9011. The counts per category (e.g. \"Government Operations and Politics\": 1408) are all correct, suggesting 2000 results without a subject."
   ]
  },
  {
   "cell_type": "markdown",
   "metadata": {},
   "source": [
    "## Cleaning and parsing metadata"
   ]
  },
  {
   "cell_type": "code",
   "execution_count": 14,
   "metadata": {},
   "outputs": [],
   "source": [
    "import pandas as pd\n",
    "alldf = pd.read_csv('bill-meta.csv')"
   ]
  },
  {
   "cell_type": "code",
   "execution_count": 19,
   "metadata": {},
   "outputs": [
    {
     "data": {
      "text/plain": [
       "Index(['legislation_number', 'url', 'congress', 'amends_bill', 'title',\n",
       "       'sponsor', 'date_of_introduction', 'date_offered', 'date_submitted',\n",
       "       'date_proposed', 'number_of_cosponsors', 'committees',\n",
       "       'latest_action_date', 'latest_action', 'subject', 'sponsor_party',\n",
       "       'id'],\n",
       "      dtype='object')"
      ]
     },
     "execution_count": 19,
     "metadata": {},
     "output_type": "execute_result"
    }
   ],
   "source": []
  },
  {
   "cell_type": "code",
   "execution_count": 24,
   "metadata": {},
   "outputs": [
    {
     "data": {
      "text/html": [
       "<div>\n",
       "<style scoped>\n",
       "    .dataframe tbody tr th:only-of-type {\n",
       "        vertical-align: middle;\n",
       "    }\n",
       "\n",
       "    .dataframe tbody tr th {\n",
       "        vertical-align: top;\n",
       "    }\n",
       "\n",
       "    .dataframe thead th {\n",
       "        text-align: right;\n",
       "    }\n",
       "</style>\n",
       "<table border=\"1\" class=\"dataframe\">\n",
       "  <thead>\n",
       "    <tr style=\"text-align: right;\">\n",
       "      <th></th>\n",
       "      <th>legislation_number</th>\n",
       "      <th>url</th>\n",
       "      <th>congress</th>\n",
       "      <th>amends_bill</th>\n",
       "      <th>title</th>\n",
       "      <th>sponsor</th>\n",
       "      <th>date_of_introduction</th>\n",
       "      <th>date_offered</th>\n",
       "      <th>date_submitted</th>\n",
       "      <th>date_proposed</th>\n",
       "      <th>number_of_cosponsors</th>\n",
       "      <th>committees</th>\n",
       "      <th>latest_action_date</th>\n",
       "      <th>latest_action</th>\n",
       "      <th>subject</th>\n",
       "      <th>sponsor_party</th>\n",
       "      <th>id</th>\n",
       "    </tr>\n",
       "  </thead>\n",
       "  <tbody>\n",
       "    <tr>\n",
       "      <th>0</th>\n",
       "      <td>H.R. 3823</td>\n",
       "      <td>https://www.congress.gov/bill/115th-congress/h...</td>\n",
       "      <td>115th Congress (2017-2018)</td>\n",
       "      <td>NaN</td>\n",
       "      <td>Disaster Tax Relief and Airport and Airway Ext...</td>\n",
       "      <td>Rep. Brady, Kevin [R-TX-8]</td>\n",
       "      <td>09/25/2017</td>\n",
       "      <td>NaN</td>\n",
       "      <td>NaN</td>\n",
       "      <td>NaN</td>\n",
       "      <td>2</td>\n",
       "      <td>House - Ways and Means, Transportation and Inf...</td>\n",
       "      <td>09/29/2017</td>\n",
       "      <td>Became Public Law No: 115-63.</td>\n",
       "      <td>Taxation</td>\n",
       "      <td>R</td>\n",
       "      <td>115 H.R. 3823</td>\n",
       "    </tr>\n",
       "    <tr>\n",
       "      <th>1</th>\n",
       "      <td>H.R. 88</td>\n",
       "      <td>https://www.congress.gov/bill/115th-congress/h...</td>\n",
       "      <td>115th Congress (2017-2018)</td>\n",
       "      <td>NaN</td>\n",
       "      <td>Shiloh National Military Park Boundary Adjustm...</td>\n",
       "      <td>Rep. Blackburn, Marsha [R-TN-7]</td>\n",
       "      <td>01/03/2017</td>\n",
       "      <td>NaN</td>\n",
       "      <td>NaN</td>\n",
       "      <td>NaN</td>\n",
       "      <td>0</td>\n",
       "      <td>House - Natural Resources | Senate - Energy an...</td>\n",
       "      <td>12/21/2018</td>\n",
       "      <td>Message on House action received in Senate and...</td>\n",
       "      <td>Taxation</td>\n",
       "      <td>R</td>\n",
       "      <td>115 H.R. 88</td>\n",
       "    </tr>\n",
       "  </tbody>\n",
       "</table>\n",
       "</div>"
      ],
      "text/plain": [
       "  legislation_number                                                url  \\\n",
       "0          H.R. 3823  https://www.congress.gov/bill/115th-congress/h...   \n",
       "1            H.R. 88  https://www.congress.gov/bill/115th-congress/h...   \n",
       "\n",
       "                     congress  amends_bill  \\\n",
       "0  115th Congress (2017-2018)          NaN   \n",
       "1  115th Congress (2017-2018)          NaN   \n",
       "\n",
       "                                               title  \\\n",
       "0  Disaster Tax Relief and Airport and Airway Ext...   \n",
       "1  Shiloh National Military Park Boundary Adjustm...   \n",
       "\n",
       "                           sponsor date_of_introduction  date_offered  \\\n",
       "0       Rep. Brady, Kevin [R-TX-8]           09/25/2017           NaN   \n",
       "1  Rep. Blackburn, Marsha [R-TN-7]           01/03/2017           NaN   \n",
       "\n",
       "   date_submitted  date_proposed  number_of_cosponsors  \\\n",
       "0             NaN            NaN                     2   \n",
       "1             NaN            NaN                     0   \n",
       "\n",
       "                                          committees latest_action_date  \\\n",
       "0  House - Ways and Means, Transportation and Inf...         09/29/2017   \n",
       "1  House - Natural Resources | Senate - Energy an...         12/21/2018   \n",
       "\n",
       "                                       latest_action   subject sponsor_party  \\\n",
       "0                      Became Public Law No: 115-63.  Taxation             R   \n",
       "1  Message on House action received in Senate and...  Taxation             R   \n",
       "\n",
       "              id  \n",
       "0  115 H.R. 3823  \n",
       "1    115 H.R. 88  "
      ]
     },
     "execution_count": 24,
     "metadata": {},
     "output_type": "execute_result"
    }
   ],
   "source": [
    "# Add metadata\n",
    "alldf.columns = alldf.columns.str.lower().str.replace(' ', '_')\n",
    "alldf['sponsor_party'] = alldf.sponsor.str.extract('\\[(\\w)-')[0]\n",
    "alldf['id'] = alldf.congress.apply(lambda x: x[:3]) + ' ' + alldf.legislation_number\n",
    "alldf.head(2)"
   ]
  },
  {
   "cell_type": "markdown",
   "metadata": {
    "colab_type": "text",
    "id": "39IUqmKkSrmD"
   },
   "source": [
    "## Save Data"
   ]
  },
  {
   "cell_type": "code",
   "execution_count": 25,
   "metadata": {
    "colab": {},
    "colab_type": "code",
    "id": "8ZpOHkXiPJ_S"
   },
   "outputs": [],
   "source": [
    "alldf.to_csv('bill-meta.csv', index=False)"
   ]
  },
  {
   "cell_type": "code",
   "execution_count": null,
   "metadata": {},
   "outputs": [],
   "source": []
  }
 ],
 "metadata": {
  "colab": {
   "collapsed_sections": [],
   "include_colab_link": true,
   "name": "MetaCrawl-MOODs.ipynb",
   "provenance": [],
   "version": "0.3.2"
  },
  "kernelspec": {
   "display_name": "Python 3",
   "language": "python",
   "name": "python3"
  },
  "language_info": {
   "codemirror_mode": {
    "name": "ipython",
    "version": 3
   },
   "file_extension": ".py",
   "mimetype": "text/x-python",
   "name": "python",
   "nbconvert_exporter": "python",
   "pygments_lexer": "ipython3",
   "version": "3.6.7"
  }
 },
 "nbformat": 4,
 "nbformat_minor": 4
}
