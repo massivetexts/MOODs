{
  "nbformat": 4,
  "nbformat_minor": 0,
  "metadata": {
    "colab": {
      "name": "MetaCrawl-MOODs.ipynb",
      "version": "0.3.2",
      "provenance": [],
      "collapsed_sections": []
    },
    "kernelspec": {
      "display_name": "Python 3",
      "language": "python",
      "name": "python3"
    }
  },
  "cells": [
    {
      "metadata": {
        "id": "rR4p5MbHO5pC",
        "colab_type": "code",
        "colab": {}
      },
      "cell_type": "code",
      "source": [
        "import pandas as pd\n",
        "import time\n",
        "import urllib\n",
        "import json"
      ],
      "execution_count": 0,
      "outputs": []
    },
    {
      "metadata": {
        "id": "GioQgGdLO5pK",
        "colab_type": "text"
      },
      "cell_type": "markdown",
      "source": [
        "You need a user string to download CSVs. Go to a search page on Congress.gov, click \"Download\", and copy the\n",
        "url to the tempalte_url below."
      ]
    },
    {
      "metadata": {
        "id": "ImEY2D__O5pM",
        "colab_type": "code",
        "colab": {}
      },
      "cell_type": "code",
      "source": [
        "# Template URL\n",
        "template_url = \"https://www.congress.gov/search?pageSize=25&q=%7B%22source%22%3A%22legislation%22%2C%22bill-status%22%3A%22law%22%2C%22type%22%3A%22bills%22%2C%22congress%22%3A%22110%22%7D&1ddcb92ade31c8fbd370001f9b29a7d9=628cb5675ff524f3e719b7aa2e88fe3f\"\n",
        "template_url = urllib.parse.urlparse(template_url)\n",
        "\n",
        "# Change args and reencode\n",
        "def construct_url(params, template_url=template_url):\n",
        "    args = dict(urllib.parse.parse_qsl(template_url.query))\n",
        "    args['q'] = json.dumps(params)\n",
        "    parts = list(template_url)\n",
        "    parts[4] = urllib.parse.urlencode(tuple(dict(args).items()))\n",
        "    return urllib.parse.urlunparse(parts)\n",
        "\n",
        "def url_to_df(url, add_cols = None):\n",
        "    # Need header else rejected\n",
        "    headers = {\"User-Agent\": 'Mozilla/5.0 (Windows; U; Windows NT 5.1; en-US; rv:1.9.0.7) Gecko/2009021910 Firefox/3.0.7'}\n",
        "    request = urllib.request.Request(url,None,headers)\n",
        "    response = urllib.request.urlopen(request)\n",
        "    # Skip info in csv before the data\n",
        "    df = pd.read_csv(response, skiprows=3)\n",
        "    #data = response.read()\n",
        "    if add_cols:\n",
        "      for colname, val in add_cols:\n",
        "        df[colname] = [val] * len(df)\n",
        "    return df\n",
        "  \n",
        "opts = dict(\n",
        "type = [['bills'], ['resolutions', 'joint-resolutions', 'concurrent-resolutions']],\n",
        "chamber = [\"House\", \"Senate\"],\n",
        "party = [['Democratic'], ['Republican', 'Independent', 'Independent Democrat']],\n",
        "subject = ['Taxation', 'Government Operations and Politics', 'Health', 'Congress', 'Armed Forces and National Security', 'Foreign Trade and International Finance', 'International Affairs', 'Public Lands and Natural Resources', 'Crime and Law Enforcement', 'Transportation and Public Works', 'Social Welfare', 'Education', 'Energy', 'Agriculture and Food', 'Economics and Public Finance', 'Labor and Employment', 'Environmental Protection', 'Finance and Financial Sector', 'Commerce', 'Science, Technology, Communications', 'Immigration', 'Law', 'Housing and Community Development', 'Water Resources Development', 'Native Americans', 'Civil Rights and Liberties, Minority Issues', 'Emergency Management', 'Families', 'Animals', 'Arts, Culture, Religion', 'Sports and Recreation', 'Social Sciences and History']\n",
        ")"
      ],
      "execution_count": 0,
      "outputs": []
    },
    {
      "metadata": {
        "id": "DLG5wHnd2YZo",
        "colab_type": "text"
      },
      "cell_type": "markdown",
      "source": [
        "Order:\n",
        "  - type:bills, source:legislation, bill-status: passed-both\n",
        "  - subject\n",
        "     - (for three cases where >1000 rows) party"
      ]
    },
    {
      "metadata": {
        "id": "_P4nDKfS2bLz",
        "colab_type": "code",
        "colab": {
          "base_uri": "https://localhost:8080/",
          "height": 1064
        },
        "outputId": "6f5b9c22-cfc0-46d0-de75-b168c50cb6e4"
      },
      "cell_type": "code",
      "source": [
        "base_params = {'bill-status': 'passed-both', 'source': 'legislation', 'type': 'bills'}\n",
        "# Other potential statuses: 'law' denotes just the bills that became law, 'introduced'\n",
        "# gets everything. Currently using a medium-wide net with 'passed-both':\n",
        "# bills that passed both chambers\n",
        "\n",
        "all_dfs = []\n",
        "for subject in opts['subject']:\n",
        "  print('Subject:', subject)\n",
        "  \n",
        "  params = base_params.copy()\n",
        "  params['subject'] = subject\n",
        "  url = construct_url(params, template_url)\n",
        "  df = url_to_df(url, add_cols=[('Subject', subject)])\n",
        "  if len(df) < 1000:\n",
        "    all_dfs.append(df)\n",
        "    # Wait 10s, easier to interupt this way:\n",
        "    for i in range(10):\n",
        "       time.sleep(1)\n",
        "  else:\n",
        "    for party in opts['party']:\n",
        "      print(\"\\tParty\", party)\n",
        "      params['party'] = party\n",
        "      url = construct_url(params, template_url)\n",
        "      df = url_to_df(url, add_cols=[('Subject', subject)])\n",
        "      if len(df) < 1000:\n",
        "        all_dfs.append(df)\n",
        "        for i in range(10):\n",
        "           time.sleep(1)\n",
        "      else:\n",
        "        print(\"Still too long:\", subject, party)\n",
        "\n",
        "alldf = pd.concat(all_dfs)\n",
        "alldf.sample(3)"
      ],
      "execution_count": 0,
      "outputs": [
        {
          "output_type": "stream",
          "text": [
            "Subject: Taxation\n",
            "Subject: Government Operations and Politics\n",
            "\tParty ['Democratic']\n",
            "\tParty ['Republican', 'Independent', 'Independent Democrat']\n",
            "Subject: Health\n",
            "Subject: Congress\n",
            "Subject: Armed Forces and National Security\n",
            "Subject: Foreign Trade and International Finance\n",
            "Subject: International Affairs\n",
            "Subject: Public Lands and Natural Resources\n",
            "\tParty ['Democratic']\n",
            "\tParty ['Republican', 'Independent', 'Independent Democrat']\n",
            "Subject: Crime and Law Enforcement\n",
            "Subject: Transportation and Public Works\n",
            "Subject: Social Welfare\n",
            "Subject: Education\n",
            "Subject: Energy\n",
            "Subject: Agriculture and Food\n",
            "Subject: Economics and Public Finance\n",
            "Subject: Labor and Employment\n",
            "Subject: Environmental Protection\n",
            "Subject: Finance and Financial Sector\n",
            "Subject: Commerce\n",
            "Subject: Science, Technology, Communications\n",
            "Subject: Immigration\n",
            "Subject: Law\n",
            "Subject: Housing and Community Development\n",
            "Subject: Native Americans\n",
            "Subject: Civil Rights and Liberties, Minority Issues\n",
            "Subject: Emergency Management\n",
            "Subject: Families\n",
            "Subject: Animals\n",
            "Subject: Arts, Culture, Religion\n",
            "Subject: Sports and Recreation\n",
            "Subject: Social Sciences and History\n"
          ],
          "name": "stdout"
        },
        {
          "output_type": "execute_result",
          "data": {
            "text/html": [
              "<div>\n",
              "<style scoped>\n",
              "    .dataframe tbody tr th:only-of-type {\n",
              "        vertical-align: middle;\n",
              "    }\n",
              "\n",
              "    .dataframe tbody tr th {\n",
              "        vertical-align: top;\n",
              "    }\n",
              "\n",
              "    .dataframe thead th {\n",
              "        text-align: right;\n",
              "    }\n",
              "</style>\n",
              "<table border=\"1\" class=\"dataframe\">\n",
              "  <thead>\n",
              "    <tr style=\"text-align: right;\">\n",
              "      <th></th>\n",
              "      <th>Legislation Number</th>\n",
              "      <th>URL</th>\n",
              "      <th>Congress</th>\n",
              "      <th>Amends Bill</th>\n",
              "      <th>Title</th>\n",
              "      <th>Sponsor</th>\n",
              "      <th>Date of Introduction</th>\n",
              "      <th>Date Offered</th>\n",
              "      <th>Date Submitted</th>\n",
              "      <th>Date Proposed</th>\n",
              "      <th>Number of Cosponsors</th>\n",
              "      <th>Committees</th>\n",
              "      <th>Latest Action Date</th>\n",
              "      <th>Latest Action</th>\n",
              "      <th>Subject</th>\n",
              "    </tr>\n",
              "  </thead>\n",
              "  <tbody>\n",
              "    <tr>\n",
              "      <th>121</th>\n",
              "      <td>H.R. 7477</td>\n",
              "      <td>https://www.congress.gov/bill/96th-congress/ho...</td>\n",
              "      <td>96th Congress (1979-1980)</td>\n",
              "      <td>NaN</td>\n",
              "      <td>A bill to amend the Internal Revenue Code of 1...</td>\n",
              "      <td>Rep. Ullman, Al [D-OR-2]</td>\n",
              "      <td>06/03/1980</td>\n",
              "      <td>NaN</td>\n",
              "      <td>NaN</td>\n",
              "      <td>NaN</td>\n",
              "      <td>0</td>\n",
              "      <td>House - Ways and Means, Ways and Means | Senat...</td>\n",
              "      <td>07/01/1980</td>\n",
              "      <td>Public Law 96-298.</td>\n",
              "      <td>Taxation</td>\n",
              "    </tr>\n",
              "    <tr>\n",
              "      <th>203</th>\n",
              "      <td>H.R. 3120</td>\n",
              "      <td>https://www.congress.gov/bill/104th-congress/h...</td>\n",
              "      <td>104th Congress (1995-1996)</td>\n",
              "      <td>NaN</td>\n",
              "      <td>To amend title 18, United States Code, with re...</td>\n",
              "      <td>Rep. Fox, Jon D. [R-PA-13]</td>\n",
              "      <td>03/20/1996</td>\n",
              "      <td>NaN</td>\n",
              "      <td>NaN</td>\n",
              "      <td>NaN</td>\n",
              "      <td>0</td>\n",
              "      <td>House - Judiciary, Judiciary</td>\n",
              "      <td>10/01/1996</td>\n",
              "      <td>Became Public Law No: 104-214.</td>\n",
              "      <td>Crime and Law Enforcement</td>\n",
              "    </tr>\n",
              "    <tr>\n",
              "      <th>106</th>\n",
              "      <td>H.R. 1197</td>\n",
              "      <td>https://www.congress.gov/bill/105th-congress/h...</td>\n",
              "      <td>105th Congress (1997-1998)</td>\n",
              "      <td>NaN</td>\n",
              "      <td>Plant Patent Amendment Act of 1998</td>\n",
              "      <td>Rep. Smith, Robert [R-OR-2]</td>\n",
              "      <td>03/20/1997</td>\n",
              "      <td>NaN</td>\n",
              "      <td>NaN</td>\n",
              "      <td>NaN</td>\n",
              "      <td>2</td>\n",
              "      <td>House - Judiciary</td>\n",
              "      <td>10/27/1998</td>\n",
              "      <td>Became Public Law No: 105-289.</td>\n",
              "      <td>Commerce</td>\n",
              "    </tr>\n",
              "  </tbody>\n",
              "</table>\n",
              "</div>"
            ],
            "text/plain": [
              "    Legislation Number                                                URL  \\\n",
              "121          H.R. 7477  https://www.congress.gov/bill/96th-congress/ho...   \n",
              "203          H.R. 3120  https://www.congress.gov/bill/104th-congress/h...   \n",
              "106          H.R. 1197  https://www.congress.gov/bill/105th-congress/h...   \n",
              "\n",
              "                       Congress  Amends Bill  \\\n",
              "121   96th Congress (1979-1980)          NaN   \n",
              "203  104th Congress (1995-1996)          NaN   \n",
              "106  105th Congress (1997-1998)          NaN   \n",
              "\n",
              "                                                 Title  \\\n",
              "121  A bill to amend the Internal Revenue Code of 1...   \n",
              "203  To amend title 18, United States Code, with re...   \n",
              "106                 Plant Patent Amendment Act of 1998   \n",
              "\n",
              "                         Sponsor Date of Introduction  Date Offered  \\\n",
              "121     Rep. Ullman, Al [D-OR-2]           06/03/1980           NaN   \n",
              "203   Rep. Fox, Jon D. [R-PA-13]           03/20/1996           NaN   \n",
              "106  Rep. Smith, Robert [R-OR-2]           03/20/1997           NaN   \n",
              "\n",
              "     Date Submitted  Date Proposed  Number of Cosponsors  \\\n",
              "121             NaN            NaN                     0   \n",
              "203             NaN            NaN                     0   \n",
              "106             NaN            NaN                     2   \n",
              "\n",
              "                                            Committees Latest Action Date  \\\n",
              "121  House - Ways and Means, Ways and Means | Senat...         07/01/1980   \n",
              "203                       House - Judiciary, Judiciary         10/01/1996   \n",
              "106                                  House - Judiciary         10/27/1998   \n",
              "\n",
              "                      Latest Action                    Subject  \n",
              "121              Public Law 96-298.                   Taxation  \n",
              "203  Became Public Law No: 104-214.  Crime and Law Enforcement  \n",
              "106  Became Public Law No: 105-289.                   Commerce  "
            ]
          },
          "metadata": {
            "tags": []
          },
          "execution_count": 54
        }
      ]
    },
    {
      "metadata": {
        "id": "o2cfM9JAXDu6",
        "colab_type": "text"
      },
      "cell_type": "markdown",
      "source": [
        "**Note**: There seem to be bills without subject areas. At the time of writing, congress.gov lists 11,078 Legislation/Bill/Passed Both results, but we only scraped 9011. The counts per category (e.g. \"Government Operations and Politics\": 1408) are all correct, suggesting 2000 results without a subject."
      ]
    },
    {
      "metadata": {
        "id": "nJfyeW4UWIQD",
        "colab_type": "code",
        "colab": {
          "base_uri": "https://localhost:8080/",
          "height": 35
        },
        "outputId": "269a3424-3127-4b8c-8934-d9c418cc1f4e"
      },
      "cell_type": "code",
      "source": [
        "len(alldf)"
      ],
      "execution_count": 0,
      "outputs": [
        {
          "output_type": "execute_result",
          "data": {
            "text/plain": [
              "9011"
            ]
          },
          "metadata": {
            "tags": []
          },
          "execution_count": 59
        }
      ]
    },
    {
      "metadata": {
        "id": "1pxm5xl7WT0o",
        "colab_type": "code",
        "colab": {
          "base_uri": "https://localhost:8080/",
          "height": 627
        },
        "outputId": "c599c354-8f08-4165-d598-ffc32650035b"
      },
      "cell_type": "code",
      "source": [
        "\n",
        "alldf.Subject.value_counts()"
      ],
      "execution_count": 0,
      "outputs": [
        {
          "output_type": "execute_result",
          "data": {
            "text/plain": [
              "Government Operations and Politics             1408\n",
              "Public Lands and Natural Resources             1305\n",
              "Armed Forces and National Security              678\n",
              "Economics and Public Finance                    490\n",
              "Transportation and Public Works                 469\n",
              "Native Americans                                382\n",
              "Health                                          378\n",
              "International Affairs                           367\n",
              "Crime and Law Enforcement                       319\n",
              "Agriculture and Food                            266\n",
              "Commerce                                        266\n",
              "Finance and Financial Sector                    247\n",
              "Energy                                          234\n",
              "Water Resources Development                     206\n",
              "Foreign Trade and International Finance         191\n",
              "Environmental Protection                        190\n",
              "Education                                       181\n",
              "Law                                             180\n",
              "Science, Technology, Communications             179\n",
              "Taxation                                        171\n",
              "Labor and Employment                            125\n",
              "Immigration                                     115\n",
              "Emergency Management                            109\n",
              "Social Welfare                                  109\n",
              "Congress                                        101\n",
              "Arts, Culture, Religion                          88\n",
              "Housing and Community Development                77\n",
              "Animals                                          66\n",
              "Civil Rights and Liberties, Minority Issues      49\n",
              "Families                                         43\n",
              "Sports and Recreation                            19\n",
              "Social Sciences and History                       3\n",
              "Name: Subject, dtype: int64"
            ]
          },
          "metadata": {
            "tags": []
          },
          "execution_count": 58
        }
      ]
    },
    {
      "metadata": {
        "id": "39IUqmKkSrmD",
        "colab_type": "text"
      },
      "cell_type": "markdown",
      "source": [
        "## Save Data to a Google Spreadsheet"
      ]
    },
    {
      "metadata": {
        "id": "8ZpOHkXiPJ_S",
        "colab_type": "code",
        "colab": {}
      },
      "cell_type": "code",
      "source": [
        "!pip install --upgrade -q gspread"
      ],
      "execution_count": 0,
      "outputs": []
    },
    {
      "metadata": {
        "id": "dFlNn0g9O5iN",
        "colab_type": "code",
        "colab": {}
      },
      "cell_type": "code",
      "source": [
        "# Saving\n",
        "from google.colab import auth\n",
        "auth.authenticate_user()\n",
        "\n",
        "import gspread\n",
        "from oauth2client.client import GoogleCredentials\n",
        "\n",
        "gc = gspread.authorize(GoogleCredentials.get_application_default())"
      ],
      "execution_count": 0,
      "outputs": []
    },
    {
      "metadata": {
        "id": "e1hLRXQTR0xy",
        "colab_type": "code",
        "colab": {},
        "cellView": "both"
      },
      "cell_type": "code",
      "source": [
        "#@title Save to Google Docs\n",
        "# Write DataFrame to first page of sheet\n",
        "name = 'MOODs Bill Meta' #@param{type:\"string\"}\n",
        "try:\n",
        "  sh = gc.open(name)\n",
        "except:\n",
        "  sh = gc.create(name)"
      ],
      "execution_count": 0,
      "outputs": []
    },
    {
      "metadata": {
        "id": "S0cPFSqxki8G",
        "colab_type": "code",
        "colab": {}
      },
      "cell_type": "code",
      "source": [
        "gc.import_csv(sh.id, alldf.to_csv(None))"
      ],
      "execution_count": 0,
      "outputs": []
    },
    {
      "metadata": {
        "id": "XsLusqPtYZaT",
        "colab_type": "text"
      },
      "cell_type": "markdown",
      "source": [
        "## Loading Data from Spreadsheet"
      ]
    },
    {
      "metadata": {
        "id": "o6TlyYs9Tv4W",
        "colab_type": "code",
        "colab": {
          "base_uri": "https://localhost:8080/",
          "height": 34
        },
        "outputId": "60d9d826-e33c-41cd-fc75-75a261fb9b0b"
      },
      "cell_type": "code",
      "source": [
        "records = sh.sheet1.get_all_records()\n",
        "testdf = pd.DataFrame.from_records(records)\n",
        "len(testdf)"
      ],
      "execution_count": 0,
      "outputs": [
        {
          "output_type": "execute_result",
          "data": {
            "text/plain": [
              "9011"
            ]
          },
          "metadata": {
            "tags": []
          },
          "execution_count": 6
        }
      ]
    },
    {
      "metadata": {
        "id": "PDC-CCIRklC4",
        "colab_type": "code",
        "colab": {
          "base_uri": "https://localhost:8080/",
          "height": 50
        },
        "outputId": "8138b9b0-1dec-43e2-944d-e1f146ad1e53"
      },
      "cell_type": "code",
      "source": [
        "testdf.sample()['URL'].values"
      ],
      "execution_count": 0,
      "outputs": [
        {
          "output_type": "execute_result",
          "data": {
            "text/plain": [
              "array(['https://www.congress.gov/bill/106th-congress/house-bill/449'],\n",
              "      dtype=object)"
            ]
          },
          "metadata": {
            "tags": []
          },
          "execution_count": 11
        }
      ]
    },
    {
      "metadata": {
        "id": "ORBaj-GeknCL",
        "colab_type": "code",
        "colab": {}
      },
      "cell_type": "code",
      "source": [
        ""
      ],
      "execution_count": 0,
      "outputs": []
    }
  ]
}