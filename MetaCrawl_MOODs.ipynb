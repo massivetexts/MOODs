{
  "nbformat": 4,
  "nbformat_minor": 0,
  "metadata": {
    "colab": {
      "name": "MetaCrawl-MOODs.ipynb",
      "version": "0.3.2",
      "provenance": [],
      "collapsed_sections": [],
      "include_colab_link": true
    },
    "kernelspec": {
      "display_name": "Python 3",
      "language": "python",
      "name": "python3"
    }
  },
  "cells": [
    {
      "cell_type": "markdown",
      "metadata": {
        "id": "view-in-github",
        "colab_type": "text"
      },
      "source": [
        "[View in Colaboratory](https://colab.research.google.com/github/massivetexts/MOODs/blob/master/MetaCrawl_MOODs.ipynb)"
      ]
    },
    {
      "metadata": {
        "id": "rR4p5MbHO5pC",
        "colab_type": "code",
        "colab": {}
      },
      "cell_type": "code",
      "source": [
        "import pandas as pd\n",
        "import time\n",
        "import urllib\n",
        "import json"
      ],
      "execution_count": 0,
      "outputs": []
    },
    {
      "metadata": {
        "id": "GioQgGdLO5pK",
        "colab_type": "text"
      },
      "cell_type": "markdown",
      "source": [
        "You need a user string to download CSVs. Go to a search page on Congress.gov, click \"Download\", and copy the\n",
        "url to the tempalte_url below."
      ]
    },
    {
      "metadata": {
        "id": "ImEY2D__O5pM",
        "colab_type": "code",
        "colab": {}
      },
      "cell_type": "code",
      "source": [
        "# Template URL\n",
        "template_url = \"https://www.congress.gov/search?pageSize=25&q=%7B%22source%22%3A%22legislation%22%2C%22bill-status%22%3A%22law%22%2C%22type%22%3A%22bills%22%2C%22congress%22%3A%22110%22%7D&1ddcb92ade31c8fbd370001f9b29a7d9=628cb5675ff524f3e719b7aa2e88fe3f\"\n",
        "template_url = urllib.parse.urlparse(template_url)\n",
        "\n",
        "# Change args and reencode\n",
        "def construct_url(params, template_url=template_url):\n",
        "    args = dict(urllib.parse.parse_qsl(template_url.query))\n",
        "    args['q'] = json.dumps(params)\n",
        "    parts = list(template_url)\n",
        "    parts[4] = urllib.parse.urlencode(tuple(dict(args).items()))\n",
        "    return urllib.parse.urlunparse(parts)\n",
        "\n",
        "def url_to_df(url, add_cols = None):\n",
        "    # Need header else rejected\n",
        "    headers = {\"User-Agent\": 'Mozilla/5.0 (Windows; U; Windows NT 5.1; en-US; rv:1.9.0.7) Gecko/2009021910 Firefox/3.0.7'}\n",
        "    request = urllib.request.Request(url,None,headers)\n",
        "    response = urllib.request.urlopen(request)\n",
        "    # Skip info in csv before the data\n",
        "    df = pd.read_csv(response, skiprows=3)\n",
        "    #data = response.read()\n",
        "    if add_cols:\n",
        "      for colname, val in add_cols:\n",
        "        df[colname] = [val] * len(df)\n",
        "    return df\n",
        "  \n",
        "opts = dict(\n",
        "type = [['bills'], ['resolutions', 'joint-resolutions', 'concurrent-resolutions']],\n",
        "chamber = [\"House\", \"Senate\"],\n",
        "party = [['Democratic'], ['Republican', 'Independent', 'Independent Democrat']],\n",
        "subject = ['Taxation', 'Government Operations and Politics', 'Health', 'Congress', 'Armed Forces and National Security', 'Foreign Trade and International Finance', 'International Affairs', 'Public Lands and Natural Resources', 'Crime and Law Enforcement', 'Transportation and Public Works', 'Social Welfare', 'Education', 'Energy', 'Agriculture and Food', 'Economics and Public Finance', 'Labor and Employment', 'Environmental Protection', 'Finance and Financial Sector', 'Commerce', 'Science, Technology, Communications', 'Immigration', 'Law', 'Housing and Community Development', 'Water Resources Development', 'Native Americans', 'Civil Rights and Liberties, Minority Issues', 'Emergency Management', 'Families', 'Animals', 'Arts, Culture, Religion', 'Sports and Recreation', 'Social Sciences and History']\n",
        ")"
      ],
      "execution_count": 0,
      "outputs": []
    },
    {
      "metadata": {
        "id": "DLG5wHnd2YZo",
        "colab_type": "text"
      },
      "cell_type": "markdown",
      "source": [
        "Order:\n",
        "  - type:bills, source:legislation, bill-status: passed-both\n",
        "  - subject\n",
        "     - (for three cases where >1000 rows) party"
      ]
    },
    {
      "metadata": {
        "id": "_P4nDKfS2bLz",
        "colab_type": "code",
        "colab": {
          "base_uri": "https://localhost:8080/",
          "height": 1064
        },
        "outputId": "6f5b9c22-cfc0-46d0-de75-b168c50cb6e4"
      },
      "cell_type": "code",
      "source": [
        "base_params = {'bill-status': 'passed-both', 'source': 'legislation', 'type': 'bills'}\n",
        "# Other potential statuses: 'law' denotes just the bills that became law, 'introduced'\n",
        "# gets everything. Currently using a medium-wide net with 'passed-both':\n",
        "# bills that passed both chambers\n",
        "\n",
        "all_dfs = []\n",
        "for subject in opts['subject']:\n",
        "  print('Subject:', subject)\n",
        "  \n",
        "  params = base_params.copy()\n",
        "  params['subject'] = subject\n",
        "  url = construct_url(params, template_url)\n",
        "  df = url_to_df(url, add_cols=[('Subject', subject)])\n",
        "  if len(df) < 1000:\n",
        "    all_dfs.append(df)\n",
        "    # Wait 10s, easier to interupt this way:\n",
        "    for i in range(10):\n",
        "       time.sleep(1)\n",
        "  else:\n",
        "    for party in opts['party']:\n",
        "      print(\"\\tParty\", party)\n",
        "      params['party'] = party\n",
        "      url = construct_url(params, template_url)\n",
        "      df = url_to_df(url, add_cols=[('Subject', subject)])\n",
        "      if len(df) < 1000:\n",
        "        all_dfs.append(df)\n",
        "        for i in range(10):\n",
        "           time.sleep(1)\n",
        "      else:\n",
        "        print(\"Still too long:\", subject, party)\n",
        "\n",
        "alldf = pd.concat(all_dfs)\n",
        "alldf.sample(3)"
      ],
      "execution_count": 0,
      "outputs": [
        {
          "output_type": "stream",
          "text": [
            "Subject: Taxation\n",
            "Subject: Government Operations and Politics\n",
            "\tParty ['Democratic']\n",
            "\tParty ['Republican', 'Independent', 'Independent Democrat']\n",
            "Subject: Health\n",
            "Subject: Congress\n",
            "Subject: Armed Forces and National Security\n",
            "Subject: Foreign Trade and International Finance\n",
            "Subject: International Affairs\n",
            "Subject: Public Lands and Natural Resources\n",
            "\tParty ['Democratic']\n",
            "\tParty ['Republican', 'Independent', 'Independent Democrat']\n",
            "Subject: Crime and Law Enforcement\n",
            "Subject: Transportation and Public Works\n",
            "Subject: Social Welfare\n",
            "Subject: Education\n",
            "Subject: Energy\n",
            "Subject: Agriculture and Food\n",
            "Subject: Economics and Public Finance\n",
            "Subject: Labor and Employment\n",
            "Subject: Environmental Protection\n",
            "Subject: Finance and Financial Sector\n",
            "Subject: Commerce\n",
            "Subject: Science, Technology, Communications\n",
            "Subject: Immigration\n",
            "Subject: Law\n",
            "Subject: Housing and Community Development\n",
            "Subject: Native Americans\n",
            "Subject: Civil Rights and Liberties, Minority Issues\n",
            "Subject: Emergency Management\n",
            "Subject: Families\n",
            "Subject: Animals\n",
            "Subject: Arts, Culture, Religion\n",
            "Subject: Sports and Recreation\n",
            "Subject: Social Sciences and History\n"
          ],
          "name": "stdout"
        },
        {
          "output_type": "execute_result",
          "data": {
            "text/html": [
              "<div>\n",
              "<style scoped>\n",
              "    .dataframe tbody tr th:only-of-type {\n",
              "        vertical-align: middle;\n",
              "    }\n",
              "\n",
              "    .dataframe tbody tr th {\n",
              "        vertical-align: top;\n",
              "    }\n",
              "\n",
              "    .dataframe thead th {\n",
              "        text-align: right;\n",
              "    }\n",
              "</style>\n",
              "<table border=\"1\" class=\"dataframe\">\n",
              "  <thead>\n",
              "    <tr style=\"text-align: right;\">\n",
              "      <th></th>\n",
              "      <th>Legislation Number</th>\n",
              "      <th>URL</th>\n",
              "      <th>Congress</th>\n",
              "      <th>Amends Bill</th>\n",
              "      <th>Title</th>\n",
              "      <th>Sponsor</th>\n",
              "      <th>Date of Introduction</th>\n",
              "      <th>Date Offered</th>\n",
              "      <th>Date Submitted</th>\n",
              "      <th>Date Proposed</th>\n",
              "      <th>Number of Cosponsors</th>\n",
              "      <th>Committees</th>\n",
              "      <th>Latest Action Date</th>\n",
              "      <th>Latest Action</th>\n",
              "      <th>Subject</th>\n",
              "    </tr>\n",
              "  </thead>\n",
              "  <tbody>\n",
              "    <tr>\n",
              "      <th>121</th>\n",
              "      <td>H.R. 7477</td>\n",
              "      <td>https://www.congress.gov/bill/96th-congress/ho...</td>\n",
              "      <td>96th Congress (1979-1980)</td>\n",
              "      <td>NaN</td>\n",
              "      <td>A bill to amend the Internal Revenue Code of 1...</td>\n",
              "      <td>Rep. Ullman, Al [D-OR-2]</td>\n",
              "      <td>06/03/1980</td>\n",
              "      <td>NaN</td>\n",
              "      <td>NaN</td>\n",
              "      <td>NaN</td>\n",
              "      <td>0</td>\n",
              "      <td>House - Ways and Means, Ways and Means | Senat...</td>\n",
              "      <td>07/01/1980</td>\n",
              "      <td>Public Law 96-298.</td>\n",
              "      <td>Taxation</td>\n",
              "    </tr>\n",
              "    <tr>\n",
              "      <th>203</th>\n",
              "      <td>H.R. 3120</td>\n",
              "      <td>https://www.congress.gov/bill/104th-congress/h...</td>\n",
              "      <td>104th Congress (1995-1996)</td>\n",
              "      <td>NaN</td>\n",
              "      <td>To amend title 18, United States Code, with re...</td>\n",
              "      <td>Rep. Fox, Jon D. [R-PA-13]</td>\n",
              "      <td>03/20/1996</td>\n",
              "      <td>NaN</td>\n",
              "      <td>NaN</td>\n",
              "      <td>NaN</td>\n",
              "      <td>0</td>\n",
              "      <td>House - Judiciary, Judiciary</td>\n",
              "      <td>10/01/1996</td>\n",
              "      <td>Became Public Law No: 104-214.</td>\n",
              "      <td>Crime and Law Enforcement</td>\n",
              "    </tr>\n",
              "    <tr>\n",
              "      <th>106</th>\n",
              "      <td>H.R. 1197</td>\n",
              "      <td>https://www.congress.gov/bill/105th-congress/h...</td>\n",
              "      <td>105th Congress (1997-1998)</td>\n",
              "      <td>NaN</td>\n",
              "      <td>Plant Patent Amendment Act of 1998</td>\n",
              "      <td>Rep. Smith, Robert [R-OR-2]</td>\n",
              "      <td>03/20/1997</td>\n",
              "      <td>NaN</td>\n",
              "      <td>NaN</td>\n",
              "      <td>NaN</td>\n",
              "      <td>2</td>\n",
              "      <td>House - Judiciary</td>\n",
              "      <td>10/27/1998</td>\n",
              "      <td>Became Public Law No: 105-289.</td>\n",
              "      <td>Commerce</td>\n",
              "    </tr>\n",
              "  </tbody>\n",
              "</table>\n",
              "</div>"
            ],
            "text/plain": [
              "    Legislation Number                                                URL  \\\n",
              "121          H.R. 7477  https://www.congress.gov/bill/96th-congress/ho...   \n",
              "203          H.R. 3120  https://www.congress.gov/bill/104th-congress/h...   \n",
              "106          H.R. 1197  https://www.congress.gov/bill/105th-congress/h...   \n",
              "\n",
              "                       Congress  Amends Bill  \\\n",
              "121   96th Congress (1979-1980)          NaN   \n",
              "203  104th Congress (1995-1996)          NaN   \n",
              "106  105th Congress (1997-1998)          NaN   \n",
              "\n",
              "                                                 Title  \\\n",
              "121  A bill to amend the Internal Revenue Code of 1...   \n",
              "203  To amend title 18, United States Code, with re...   \n",
              "106                 Plant Patent Amendment Act of 1998   \n",
              "\n",
              "                         Sponsor Date of Introduction  Date Offered  \\\n",
              "121     Rep. Ullman, Al [D-OR-2]           06/03/1980           NaN   \n",
              "203   Rep. Fox, Jon D. [R-PA-13]           03/20/1996           NaN   \n",
              "106  Rep. Smith, Robert [R-OR-2]           03/20/1997           NaN   \n",
              "\n",
              "     Date Submitted  Date Proposed  Number of Cosponsors  \\\n",
              "121             NaN            NaN                     0   \n",
              "203             NaN            NaN                     0   \n",
              "106             NaN            NaN                     2   \n",
              "\n",
              "                                            Committees Latest Action Date  \\\n",
              "121  House - Ways and Means, Ways and Means | Senat...         07/01/1980   \n",
              "203                       House - Judiciary, Judiciary         10/01/1996   \n",
              "106                                  House - Judiciary         10/27/1998   \n",
              "\n",
              "                      Latest Action                    Subject  \n",
              "121              Public Law 96-298.                   Taxation  \n",
              "203  Became Public Law No: 104-214.  Crime and Law Enforcement  \n",
              "106  Became Public Law No: 105-289.                   Commerce  "
            ]
          },
          "metadata": {
            "tags": []
          },
          "execution_count": 54
        }
      ]
    },
    {
      "metadata": {
        "id": "o2cfM9JAXDu6",
        "colab_type": "text"
      },
      "cell_type": "markdown",
      "source": [
        "**Note**: There seem to be bills without subject areas. At the time of writing, congress.gov lists 11,078 Legislation/Bill/Passed Both results, but we only scraped 9011. The counts per category (e.g. \"Government Operations and Politics\": 1408) are all correct, suggesting 2000 results without a subject."
      ]
    },
    {
      "metadata": {
        "id": "nJfyeW4UWIQD",
        "colab_type": "code",
        "colab": {
          "base_uri": "https://localhost:8080/",
          "height": 35
        },
        "outputId": "269a3424-3127-4b8c-8934-d9c418cc1f4e"
      },
      "cell_type": "code",
      "source": [
        "len(alldf)"
      ],
      "execution_count": 0,
      "outputs": [
        {
          "output_type": "execute_result",
          "data": {
            "text/plain": [
              "9011"
            ]
          },
          "metadata": {
            "tags": []
          },
          "execution_count": 59
        }
      ]
    },
    {
      "metadata": {
        "id": "1pxm5xl7WT0o",
        "colab_type": "code",
        "colab": {
          "base_uri": "https://localhost:8080/",
          "height": 627
        },
        "outputId": "c599c354-8f08-4165-d598-ffc32650035b"
      },
      "cell_type": "code",
      "source": [
        "\n",
        "alldf.Subject.value_counts()"
      ],
      "execution_count": 0,
      "outputs": [
        {
          "output_type": "execute_result",
          "data": {
            "text/plain": [
              "Government Operations and Politics             1408\n",
              "Public Lands and Natural Resources             1305\n",
              "Armed Forces and National Security              678\n",
              "Economics and Public Finance                    490\n",
              "Transportation and Public Works                 469\n",
              "Native Americans                                382\n",
              "Health                                          378\n",
              "International Affairs                           367\n",
              "Crime and Law Enforcement                       319\n",
              "Agriculture and Food                            266\n",
              "Commerce                                        266\n",
              "Finance and Financial Sector                    247\n",
              "Energy                                          234\n",
              "Water Resources Development                     206\n",
              "Foreign Trade and International Finance         191\n",
              "Environmental Protection                        190\n",
              "Education                                       181\n",
              "Law                                             180\n",
              "Science, Technology, Communications             179\n",
              "Taxation                                        171\n",
              "Labor and Employment                            125\n",
              "Immigration                                     115\n",
              "Emergency Management                            109\n",
              "Social Welfare                                  109\n",
              "Congress                                        101\n",
              "Arts, Culture, Religion                          88\n",
              "Housing and Community Development                77\n",
              "Animals                                          66\n",
              "Civil Rights and Liberties, Minority Issues      49\n",
              "Families                                         43\n",
              "Sports and Recreation                            19\n",
              "Social Sciences and History                       3\n",
              "Name: Subject, dtype: int64"
            ]
          },
          "metadata": {
            "tags": []
          },
          "execution_count": 58
        }
      ]
    },
    {
      "metadata": {
        "id": "39IUqmKkSrmD",
        "colab_type": "text"
      },
      "cell_type": "markdown",
      "source": [
        "## Save Data to a Google Spreadsheet"
      ]
    },
    {
      "metadata": {
        "id": "8ZpOHkXiPJ_S",
        "colab_type": "code",
        "colab": {}
      },
      "cell_type": "code",
      "source": [
        "!pip install --upgrade -q gspread"
      ],
      "execution_count": 0,
      "outputs": []
    },
    {
      "metadata": {
        "id": "dFlNn0g9O5iN",
        "colab_type": "code",
        "colab": {}
      },
      "cell_type": "code",
      "source": [
        "# Saving\n",
        "from google.colab import auth\n",
        "auth.authenticate_user()\n",
        "\n",
        "import gspread\n",
        "from oauth2client.client import GoogleCredentials\n",
        "\n",
        "gc = gspread.authorize(GoogleCredentials.get_application_default())"
      ],
      "execution_count": 0,
      "outputs": []
    },
    {
      "metadata": {
        "id": "e1hLRXQTR0xy",
        "colab_type": "code",
        "colab": {},
        "cellView": "both"
      },
      "cell_type": "code",
      "source": [
        "#@title Save to Google Docs\n",
        "# Write DataFrame to first page of sheet\n",
        "name = 'MOODs Bill Meta' #@param{type:\"string\"}\n",
        "try:\n",
        "  sh = gc.open(name)\n",
        "except:\n",
        "  sh = gc.create(name)"
      ],
      "execution_count": 0,
      "outputs": []
    },
    {
      "metadata": {
        "id": "S0cPFSqxki8G",
        "colab_type": "code",
        "colab": {}
      },
      "cell_type": "code",
      "source": [
        "gc.import_csv(sh.id, alldf.to_csv(None))"
      ],
      "execution_count": 0,
      "outputs": []
    },
    {
      "metadata": {
        "id": "XsLusqPtYZaT",
        "colab_type": "text"
      },
      "cell_type": "markdown",
      "source": [
        "## Loading Data from Spreadsheet"
      ]
    },
    {
      "metadata": {
        "id": "o6TlyYs9Tv4W",
        "colab_type": "code",
        "colab": {
          "base_uri": "https://localhost:8080/",
          "height": 34
        },
        "outputId": "60d9d826-e33c-41cd-fc75-75a261fb9b0b"
      },
      "cell_type": "code",
      "source": [
        "records = sh.sheet1.get_all_records()\n",
        "testdf = pd.DataFrame.from_records(records)\n",
        "len(testdf)"
      ],
      "execution_count": 0,
      "outputs": [
        {
          "output_type": "execute_result",
          "data": {
            "text/plain": [
              "9011"
            ]
          },
          "metadata": {
            "tags": []
          },
          "execution_count": 6
        }
      ]
    },
    {
      "metadata": {
        "id": "PDC-CCIRklC4",
        "colab_type": "code",
        "colab": {
          "base_uri": "https://localhost:8080/",
          "height": 50
        },
        "outputId": "8138b9b0-1dec-43e2-944d-e1f146ad1e53"
      },
      "cell_type": "code",
      "source": [
        "testdf.sample()['URL'].values"
      ],
      "execution_count": 0,
      "outputs": [
        {
          "output_type": "execute_result",
          "data": {
            "text/plain": [
              "array(['https://www.congress.gov/bill/106th-congress/house-bill/449'],\n",
              "      dtype=object)"
            ]
          },
          "metadata": {
            "tags": []
          },
          "execution_count": 11
        }
      ]
    },
    {
      "metadata": {
        "id": "ORBaj-GeknCL",
        "colab_type": "code",
        "colab": {}
      },
      "cell_type": "code",
      "source": [
        "#text is in <pre id=\"billTextContainer\">...</pre>"
      ],
      "execution_count": 0,
      "outputs": []
    },
    {
      "metadata": {
        "id": "q0iSZbN7_Ajs",
        "colab_type": "code",
        "colab": {}
      },
      "cell_type": "code",
      "source": [
        "from bs4 import BeautifulSoup"
      ],
      "execution_count": 0,
      "outputs": []
    },
    {
      "metadata": {
        "id": "NeiJMoKX_Qlb",
        "colab_type": "code",
        "colab": {}
      },
      "cell_type": "code",
      "source": [
        "#I used the actual url, I tried testdf.sample... but it didn't work! I could extract the bill text anyway!\n",
        "\n",
        "url = \"https://www.congress.gov/bill/106th-congress/house-bill/449/text\"\n",
        "hdr = {'User-Agent': 'Mozilla/5.0'}\n",
        "req = urllib.request.Request(url, headers=hdr)\n",
        "page = urllib.request.urlopen(req)"
      ],
      "execution_count": 0,
      "outputs": []
    },
    {
      "metadata": {
        "id": "ZlCUwCF7A9tT",
        "colab_type": "code",
        "colab": {}
      },
      "cell_type": "code",
      "source": [
        "soup = BeautifulSoup(page, 'html.parser')"
      ],
      "execution_count": 0,
      "outputs": []
    },
    {
      "metadata": {
        "id": "Q1jEjl_PBERs",
        "colab_type": "code",
        "colab": {
          "base_uri": "https://localhost:8080/",
          "height": 2312
        },
        "outputId": "058e7cdd-c310-40a8-c5cd-24c65bc158d1"
      },
      "cell_type": "code",
      "source": [
        "#can do soup.find('pre').text as well but it gathers everything in one horizontal line!\n",
        "\n",
        "soup.find('pre')"
      ],
      "execution_count": 0,
      "outputs": [
        {
          "output_type": "execute_result",
          "data": {
            "text/plain": [
              "<pre id=\"billTextContainer\">[106th Congress Public Law 131]\n",
              "[From the U.S. Government Printing Office]\n",
              "\n",
              "\n",
              "&lt;DOC&gt;\n",
              "[DOCID: f:publ131.106]\n",
              "\n",
              "\n",
              "[[Page 1677]]\n",
              "\n",
              "            GATEWAY VISITOR CENTER AUTHORIZATION ACT OF 1999\n",
              "\n",
              "[[Page 113 STAT. 1678]]\n",
              "\n",
              "Public Law 106-131\n",
              "106th Congress\n",
              "\n",
              "                                 An Act\n",
              "\n",
              "\n",
              " \n",
              "    To authorize the Gateway Visitor Center at Independence National \n",
              " Historical Park, and for other purposes. &lt;&lt;NOTE: Dec. 7, 1999 -  [H.R. \n",
              "                                 449]&gt;&gt; \n",
              "\n",
              "    Be it enacted by the Senate and House of Representatives of the \n",
              "United States of America in Congress assembled, &lt;&lt;NOTE: Gateway Visitor \n",
              "Center Authorization Act of 1999.&gt;&gt; \n",
              "\n",
              "SECTION 1. &lt;&lt;NOTE: 16 USC 407m note.&gt;&gt;  SHORT TITLE.\n",
              "\n",
              "    This Act may be cited as the ``Gateway Visitor Center Authorization \n",
              "Act of 1999''.\n",
              "\n",
              "SEC. 2. &lt;&lt;NOTE: 16 USC 407m note.&gt;&gt;  FINDINGS AND PURPOSE.\n",
              "\n",
              "    (a) Findings.--The Congress finds the following:\n",
              "            (1) The National Park Service completed and approved in 1997 \n",
              "        a general management plan for Independence National Historical \n",
              "        Park that establishes goals and priorities for the park's \n",
              "        future.\n",
              "            (2) The general management plan for Independence National \n",
              "        Historical Park calls for the revitalization of Independence \n",
              "        Mall and recommends as a critical component of the Independence \n",
              "        Mall's revitalization the development of a new ``Gateway Visitor \n",
              "        Center''.\n",
              "            (3) Such a visitor center would replace the existing park \n",
              "        visitor center and would serve as an orientation center for \n",
              "        visitors to the park and to city and regional attractions.\n",
              "            (4) Subsequent to the completion of the general management \n",
              "        plan, the National Park Service undertook and completed a design \n",
              "        project and master plan for Independence Mall which includes the \n",
              "        Gateway Visitor Center.\n",
              "            (5) Plans for the Gateway Visitor Center call for it to be \n",
              "        developed and managed, in cooperation with the Secretary of the \n",
              "        Interior, by a nonprofit organization which represents the \n",
              "        various public and civic interests of the greater Philadelphia \n",
              "        metropolitan area.\n",
              "            (6) The Gateway Visitor Center Corporation, a nonprofit \n",
              "        organization, has been established to raise funds for and \n",
              "        cooperate in a program to design, develop, construct, and \n",
              "        operate the proposed Gateway Visitor Center.\n",
              "\n",
              "    (b) Purpose.--The purpose of this Act is to authorize the Secretary \n",
              "of the Interior to enter into a cooperative agreement with the Gateway \n",
              "Visitor Center Corporation to construct and operate a regional visitor \n",
              "center on Independence Mall.\n",
              "\n",
              "SEC. 3. GATEWAY VISITOR CENTER AUTHORIZATION.\n",
              "\n",
              "    (a) Agreement.--The Secretary of the Interior, in administering the \n",
              "Independence National Historical Park, may enter into\n",
              "\n",
              "[[Page 113 STAT. 1679]]\n",
              "\n",
              "an agreement under appropriate terms and conditions with the Gateway \n",
              "Visitor Center Corporation (a nonprofit corporation established under \n",
              "the laws of the Commonwealth of Pennsylvania) to facilitate the \n",
              "construction and operation of a regional Gateway Visitor Center on \n",
              "Independence Mall.\n",
              "    (b) Operations of Center.--The Agreement shall authorize the \n",
              "Corporation to operate the Center in cooperation with the Secretary and \n",
              "to provide at the Center information, interpretation, facilities, and \n",
              "services to visitors to Independence National Historical Park, its \n",
              "surrounding historic sites, the City of Philadelphia, and the region, in \n",
              "order to assist in their enjoyment of the historic, cultural, \n",
              "educational, and recreational resources of the greater Philadelphia \n",
              "area.\n",
              "    (c) Management-Related Activities.--The Agreement shall authorize \n",
              "the Secretary to undertake at the Center activities related to the \n",
              "management of Independence National Historical Park, including, but not \n",
              "limited to, provision of appropriate visitor information and \n",
              "interpretive facilities and programs related to Independence National \n",
              "Historical Park.\n",
              "    (d) Activities of Corporation.--The Agreement shall authorize the \n",
              "Corporation, acting as a private nonprofit organization, to engage in \n",
              "activities appropriate for operation of a regional visitor center that \n",
              "may include, but are not limited to, charging fees, conducting events, \n",
              "and selling merchandise, tickets, and food to visitors to the Center.\n",
              "    (e) Use of Revenues.--Revenues from activities engaged in by the \n",
              "Corporation shall be used for the operation and administration of the \n",
              "Center.\n",
              "    (f ) Protection of Park.--Nothing in this section authorizes the \n",
              "Secretary or the Corporation to take any actions in derogation of the \n",
              "preservation and protection of the values and resources of Independence \n",
              "National Historical Park.\n",
              "    (g) Definitions.--In this section:\n",
              "            (1) Agreement.--The term ``Agreement'' means an agreement \n",
              "        under this section between the Secretary and the Corporation.\n",
              "            (2) Center.--The term ``Center'' means a Gateway Visitor \n",
              "        Center constructed and operated in accordance with the \n",
              "        Agreement.\n",
              "            (3) Corporation.--The term ``Corporation'' means the Gateway \n",
              "        Visitor Center Corporation (a nonprofit corporation established \n",
              "        under the laws of the Commonwealth of Pennsylvania).\n",
              "\n",
              "[[Page 113 STAT. 1680]]\n",
              "\n",
              "            (4) Secretary.--The term ``Secretary'' means the Secretary \n",
              "        of the Interior.\n",
              "\n",
              "    Approved December 7, 1999.\n",
              "\n",
              "LEGISLATIVE HISTORY--H.R. 449:\n",
              "---------------------------------------------------------------------------\n",
              "\n",
              "HOUSE REPORTS: No. 106-66 (Comm. on Resources).\n",
              "SENATE REPORTS: No. 106-68 (Comm. on Energy and Natural Resources).\n",
              "CONGRESSIONAL RECORD, Vol. 145 (1999):\n",
              "            Apr. 12, considered and passed House.\n",
              "            Nov. 19, considered and passed Senate.\n",
              "\n",
              "                                  &lt;all&gt;\n",
              "\n",
              "</pre>"
            ]
          },
          "metadata": {
            "tags": []
          },
          "execution_count": 21
        }
      ]
    }
  ]
}