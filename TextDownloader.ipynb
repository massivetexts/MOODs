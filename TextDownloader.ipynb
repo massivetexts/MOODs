{
 "cells": [
  {
   "cell_type": "markdown",
   "metadata": {
    "colab_type": "text",
    "id": "view-in-github"
   },
   "source": [
    "[View in Colaboratory](https://colab.research.google.com/github/massivetexts/MOODs/blob/master/MetaCrawl_MOODs.ipynb)"
   ]
  },
  {
   "cell_type": "code",
   "execution_count": 7,
   "metadata": {
    "colab": {},
    "colab_type": "code",
    "id": "rR4p5MbHO5pC"
   },
   "outputs": [],
   "source": [
    "import pandas as pd\n",
    "import time\n",
    "import urllib\n",
    "import json\n",
    "from bs4 import BeautifulSoup"
   ]
  },
  {
   "cell_type": "markdown",
   "metadata": {
    "colab_type": "text",
    "id": "XsLusqPtYZaT"
   },
   "source": [
    "## Loading Data from Spreadsheet"
   ]
  },
  {
   "cell_type": "code",
   "execution_count": 17,
   "metadata": {
    "colab": {
     "base_uri": "https://localhost:8080/",
     "height": 34
    },
    "colab_type": "code",
    "id": "o6TlyYs9Tv4W",
    "outputId": "60d9d826-e33c-41cd-fc75-75a261fb9b0b"
   },
   "outputs": [
    {
     "data": {
      "text/plain": [
       "array(['https://www.congress.gov/bill/115th-congress/house-bill/4840',\n",
       "       'https://www.congress.gov/bill/115th-congress/house-bill/4685',\n",
       "       'https://www.congress.gov/bill/115th-congress/house-bill/4574',\n",
       "       'https://www.congress.gov/bill/115th-congress/house-bill/4463',\n",
       "       'https://www.congress.gov/bill/115th-congress/house-bill/4406',\n",
       "       'https://www.congress.gov/bill/115th-congress/house-bill/4042',\n",
       "       'https://www.congress.gov/bill/115th-congress/house-bill/3638',\n",
       "       'https://www.congress.gov/bill/115th-congress/house-bill/3243',\n",
       "       'https://www.congress.gov/bill/115th-congress/house-bill/3031',\n",
       "       'https://www.congress.gov/bill/115th-congress/house-bill/2873'],\n",
       "      dtype=object)"
      ]
     },
     "execution_count": 17,
     "metadata": {},
     "output_type": "execute_result"
    }
   ],
   "source": [
    "df = pd.read_csv('./bill-meta.csv')\n",
    "df.URL.values[:10]"
   ]
  },
  {
   "cell_type": "code",
   "execution_count": 62,
   "metadata": {},
   "outputs": [
    {
     "ename": "KeyboardInterrupt",
     "evalue": "",
     "output_type": "error",
     "traceback": [
      "\u001b[0;31m--------------------------------------------------------------------------\u001b[0m",
      "\u001b[0;31mKeyboardInterrupt\u001b[0m                        Traceback (most recent call last)",
      "\u001b[0;32m<ipython-input-62-6e910b77475d>\u001b[0m in \u001b[0;36m<module>\u001b[0;34m()\u001b[0m\n\u001b[1;32m      7\u001b[0m     \u001b[0mtext\u001b[0m \u001b[0;34m=\u001b[0m \u001b[0mget_text\u001b[0m\u001b[0;34m(\u001b[0m\u001b[0mtext_url\u001b[0m\u001b[0;34m)\u001b[0m\u001b[0;34m\u001b[0m\u001b[0m\n\u001b[1;32m      8\u001b[0m \u001b[0;34m\u001b[0m\u001b[0m\n\u001b[0;32m----> 9\u001b[0;31m     \u001b[0mtime\u001b[0m\u001b[0;34m.\u001b[0m\u001b[0msleep\u001b[0m\u001b[0;34m(\u001b[0m\u001b[0;36m3\u001b[0m\u001b[0;34m)\u001b[0m\u001b[0;34m\u001b[0m\u001b[0m\n\u001b[0m\u001b[1;32m     10\u001b[0m \u001b[0;34m\u001b[0m\u001b[0m\n\u001b[1;32m     11\u001b[0m     \u001b[0;32mwith\u001b[0m \u001b[0mopen\u001b[0m\u001b[0;34m(\u001b[0m\u001b[0mfilename\u001b[0m\u001b[0;34m,\u001b[0m \u001b[0mmode\u001b[0m\u001b[0;34m=\u001b[0m\u001b[0;34m'w'\u001b[0m\u001b[0;34m)\u001b[0m \u001b[0;32mas\u001b[0m \u001b[0mf\u001b[0m\u001b[0;34m:\u001b[0m\u001b[0;34m\u001b[0m\u001b[0m\n",
      "\u001b[0;31mKeyboardInterrupt\u001b[0m: "
     ]
    }
   ],
   "source": [
    "for i, row in df.iterrows():\n",
    "    clean_legnum = row[\"Legislation Number\"].replace(' ', '_').replace('.','-')\n",
    "    clean_congress = row['Congress'][:3] \n",
    "    filename = \"bills/%s_%s.txt\" % (clean_congress, clean_legnum)\n",
    "    \n",
    "    text_url = row['URL'] + '/text?format=txt'\n",
    "    text = get_text(text_url)\n",
    "\n",
    "    time.sleep(3)\n",
    "    \n",
    "    with open(filename, mode='w') as f:\n",
    "        f.write(text)"
   ]
  },
  {
   "cell_type": "code",
   "execution_count": 11,
   "metadata": {},
   "outputs": [],
   "source": [
    "def get_text(url):\n",
    "    hdr = {'User-Agent': 'Mozilla/5.0'}\n",
    "    \n",
    "    req = urllib.request.Request(url, headers=hdr)\n",
    "    page = urllib.request.urlopen(req)\n",
    "    soup = BeautifulSoup(page, 'html.parser')\n",
    "    rawtext = soup.find('pre').text\n",
    "    return rawtext"
   ]
  },
  {
   "cell_type": "code",
   "execution_count": 12,
   "metadata": {
    "colab": {},
    "colab_type": "code",
    "id": "NeiJMoKX_Qlb"
   },
   "outputs": [
    {
     "data": {
      "text/plain": [
       "\"[106th Congress Public Law 131]\\n[From the U.S. Government Printing Office]\\n\\n\\n<DOC>\\n[DOCID: f:publ131.106]\\n\\n\\n[[Page 1677]]\\n\\n            GATEWAY VISITOR CENTER AUTHORIZATION ACT OF 1999\\n\\n[[Page 113 STAT. 1678]]\\n\\nPublic Law 106-131\\n106th Congress\\n\\n                                 An Act\\n\\n\\n \\n    To authorize the Gateway Visitor Center at Independence National \\n Historical Park, and for other purposes. <<NOTE: Dec. 7, 1999 -  [H.R. \\n                                 449]>> \\n\\n    Be it enacted by the Senate and House of Representatives of the \\nUnited States of America in Congress assembled, <<NOTE: Gateway Visitor \\nCenter Authorization Act of 1999.>> \\n\\nSECTION 1. <<NOTE: 16 USC 407m note.>>  SHORT TITLE.\\n\\n    This Act may be cited as the ``Gateway Visitor Center Authorization \\nAct of 1999''.\\n\\nSEC. 2. <<NOTE: 16 USC 407m note.>>  FINDINGS AND PURPOSE.\\n\\n    (a) Findings.--The Congress finds the following:\\n            (1) The National Park Service completed and approved in 1997 \\n        a general management plan for Independence National Historical \\n        Park that establishes goals and priorities for the park's \\n        future.\\n            (2) The general management plan for Independence National \\n        Historical Park calls for the revitalization of Independence \\n        Mall and recommends as a critical component of the Independence \\n        Mall's revitalization the development of a new ``Gateway Visitor \\n        Center''.\\n            (3) Such a visitor center would replace the existing park \\n        visitor center and would serve as an orientation center for \\n        visitors to the park and to city and regional attractions.\\n            (4) Subsequent to the completion of the general management \\n        plan, the National Park Service undertook and completed a design \\n        project and master plan for Independence Mall which includes the \\n        Gateway Visitor Center.\\n            (5) Plans for the Gateway Visitor Center call for it to be \\n        developed and managed, in cooperation with the Secretary of the \\n        Interior, by a nonprofit organization which represents the \\n        various public and civic interests of the greater Philadelphia \\n        metropolitan area.\\n            (6) The Gateway Visitor Center Corporation, a nonprofit \\n        organization, has been established to raise funds for and \\n        cooperate in a program to design, develop, construct, and \\n        operate the proposed Gateway Visitor Center.\\n\\n    (b) Purpose.--The purpose of this Act is to authorize the Secretary \\nof the Interior to enter into a cooperative agreement with the Gateway \\nVisitor Center Corporation to construct and operate a regional visitor \\ncenter on Independence Mall.\\n\\nSEC. 3. GATEWAY VISITOR CENTER AUTHORIZATION.\\n\\n    (a) Agreement.--The Secretary of the Interior, in administering the \\nIndependence National Historical Park, may enter into\\n\\n[[Page 113 STAT. 1679]]\\n\\nan agreement under appropriate terms and conditions with the Gateway \\nVisitor Center Corporation (a nonprofit corporation established under \\nthe laws of the Commonwealth of Pennsylvania) to facilitate the \\nconstruction and operation of a regional Gateway Visitor Center on \\nIndependence Mall.\\n    (b) Operations of Center.--The Agreement shall authorize the \\nCorporation to operate the Center in cooperation with the Secretary and \\nto provide at the Center information, interpretation, facilities, and \\nservices to visitors to Independence National Historical Park, its \\nsurrounding historic sites, the City of Philadelphia, and the region, in \\norder to assist in their enjoyment of the historic, cultural, \\neducational, and recreational resources of the greater Philadelphia \\narea.\\n    (c) Management-Related Activities.--The Agreement shall authorize \\nthe Secretary to undertake at the Center activities related to the \\nmanagement of Independence National Historical Park, including, but not \\nlimited to, provision of appropriate visitor information and \\ninterpretive facilities and programs related to Independence National \\nHistorical Park.\\n    (d) Activities of Corporation.--The Agreement shall authorize the \\nCorporation, acting as a private nonprofit organization, to engage in \\nactivities appropriate for operation of a regional visitor center that \\nmay include, but are not limited to, charging fees, conducting events, \\nand selling merchandise, tickets, and food to visitors to the Center.\\n    (e) Use of Revenues.--Revenues from activities engaged in by the \\nCorporation shall be used for the operation and administration of the \\nCenter.\\n    (f ) Protection of Park.--Nothing in this section authorizes the \\nSecretary or the Corporation to take any actions in derogation of the \\npreservation and protection of the values and resources of Independence \\nNational Historical Park.\\n    (g) Definitions.--In this section:\\n            (1) Agreement.--The term ``Agreement'' means an agreement \\n        under this section between the Secretary and the Corporation.\\n            (2) Center.--The term ``Center'' means a Gateway Visitor \\n        Center constructed and operated in accordance with the \\n        Agreement.\\n            (3) Corporation.--The term ``Corporation'' means the Gateway \\n        Visitor Center Corporation (a nonprofit corporation established \\n        under the laws of the Commonwealth of Pennsylvania).\\n\\n[[Page 113 STAT. 1680]]\\n\\n            (4) Secretary.--The term ``Secretary'' means the Secretary \\n        of the Interior.\\n\\n    Approved December 7, 1999.\\n\\nLEGISLATIVE HISTORY--H.R. 449:\\n---------------------------------------------------------------------------\\n\\nHOUSE REPORTS: No. 106-66 (Comm. on Resources).\\nSENATE REPORTS: No. 106-68 (Comm. on Energy and Natural Resources).\\nCONGRESSIONAL RECORD, Vol. 145 (1999):\\n            Apr. 12, considered and passed House.\\n            Nov. 19, considered and passed Senate.\\n\\n                                  <all>\\n\\n\""
      ]
     },
     "execution_count": 12,
     "metadata": {},
     "output_type": "execute_result"
    }
   ],
   "source": [
    "#I used the actual url, I tried testdf.sample... but it didn't work! I could extract the bill text anyway!\n",
    "\n",
    "url = \"https://www.congress.gov/bill/106th-congress/house-bill/449/text\"\n",
    "get_text(url)"
   ]
  },
  {
   "cell_type": "code",
   "execution_count": null,
   "metadata": {
    "colab": {},
    "colab_type": "code",
    "id": "ZlCUwCF7A9tT"
   },
   "outputs": [],
   "source": []
  },
  {
   "cell_type": "code",
   "execution_count": null,
   "metadata": {
    "colab": {
     "base_uri": "https://localhost:8080/",
     "height": 2312
    },
    "colab_type": "code",
    "id": "Q1jEjl_PBERs",
    "outputId": "058e7cdd-c310-40a8-c5cd-24c65bc158d1"
   },
   "outputs": [
    {
     "data": {
      "text/plain": [
       "<pre id=\"billTextContainer\">[106th Congress Public Law 131]\n",
       "[From the U.S. Government Printing Office]\n",
       "\n",
       "\n",
       "&lt;DOC&gt;\n",
       "[DOCID: f:publ131.106]\n",
       "\n",
       "\n",
       "[[Page 1677]]\n",
       "\n",
       "            GATEWAY VISITOR CENTER AUTHORIZATION ACT OF 1999\n",
       "\n",
       "[[Page 113 STAT. 1678]]\n",
       "\n",
       "Public Law 106-131\n",
       "106th Congress\n",
       "\n",
       "                                 An Act\n",
       "\n",
       "\n",
       " \n",
       "    To authorize the Gateway Visitor Center at Independence National \n",
       " Historical Park, and for other purposes. &lt;&lt;NOTE: Dec. 7, 1999 -  [H.R. \n",
       "                                 449]&gt;&gt; \n",
       "\n",
       "    Be it enacted by the Senate and House of Representatives of the \n",
       "United States of America in Congress assembled, &lt;&lt;NOTE: Gateway Visitor \n",
       "Center Authorization Act of 1999.&gt;&gt; \n",
       "\n",
       "SECTION 1. &lt;&lt;NOTE: 16 USC 407m note.&gt;&gt;  SHORT TITLE.\n",
       "\n",
       "    This Act may be cited as the ``Gateway Visitor Center Authorization \n",
       "Act of 1999''.\n",
       "\n",
       "SEC. 2. &lt;&lt;NOTE: 16 USC 407m note.&gt;&gt;  FINDINGS AND PURPOSE.\n",
       "\n",
       "    (a) Findings.--The Congress finds the following:\n",
       "            (1) The National Park Service completed and approved in 1997 \n",
       "        a general management plan for Independence National Historical \n",
       "        Park that establishes goals and priorities for the park's \n",
       "        future.\n",
       "            (2) The general management plan for Independence National \n",
       "        Historical Park calls for the revitalization of Independence \n",
       "        Mall and recommends as a critical component of the Independence \n",
       "        Mall's revitalization the development of a new ``Gateway Visitor \n",
       "        Center''.\n",
       "            (3) Such a visitor center would replace the existing park \n",
       "        visitor center and would serve as an orientation center for \n",
       "        visitors to the park and to city and regional attractions.\n",
       "            (4) Subsequent to the completion of the general management \n",
       "        plan, the National Park Service undertook and completed a design \n",
       "        project and master plan for Independence Mall which includes the \n",
       "        Gateway Visitor Center.\n",
       "            (5) Plans for the Gateway Visitor Center call for it to be \n",
       "        developed and managed, in cooperation with the Secretary of the \n",
       "        Interior, by a nonprofit organization which represents the \n",
       "        various public and civic interests of the greater Philadelphia \n",
       "        metropolitan area.\n",
       "            (6) The Gateway Visitor Center Corporation, a nonprofit \n",
       "        organization, has been established to raise funds for and \n",
       "        cooperate in a program to design, develop, construct, and \n",
       "        operate the proposed Gateway Visitor Center.\n",
       "\n",
       "    (b) Purpose.--The purpose of this Act is to authorize the Secretary \n",
       "of the Interior to enter into a cooperative agreement with the Gateway \n",
       "Visitor Center Corporation to construct and operate a regional visitor \n",
       "center on Independence Mall.\n",
       "\n",
       "SEC. 3. GATEWAY VISITOR CENTER AUTHORIZATION.\n",
       "\n",
       "    (a) Agreement.--The Secretary of the Interior, in administering the \n",
       "Independence National Historical Park, may enter into\n",
       "\n",
       "[[Page 113 STAT. 1679]]\n",
       "\n",
       "an agreement under appropriate terms and conditions with the Gateway \n",
       "Visitor Center Corporation (a nonprofit corporation established under \n",
       "the laws of the Commonwealth of Pennsylvania) to facilitate the \n",
       "construction and operation of a regional Gateway Visitor Center on \n",
       "Independence Mall.\n",
       "    (b) Operations of Center.--The Agreement shall authorize the \n",
       "Corporation to operate the Center in cooperation with the Secretary and \n",
       "to provide at the Center information, interpretation, facilities, and \n",
       "services to visitors to Independence National Historical Park, its \n",
       "surrounding historic sites, the City of Philadelphia, and the region, in \n",
       "order to assist in their enjoyment of the historic, cultural, \n",
       "educational, and recreational resources of the greater Philadelphia \n",
       "area.\n",
       "    (c) Management-Related Activities.--The Agreement shall authorize \n",
       "the Secretary to undertake at the Center activities related to the \n",
       "management of Independence National Historical Park, including, but not \n",
       "limited to, provision of appropriate visitor information and \n",
       "interpretive facilities and programs related to Independence National \n",
       "Historical Park.\n",
       "    (d) Activities of Corporation.--The Agreement shall authorize the \n",
       "Corporation, acting as a private nonprofit organization, to engage in \n",
       "activities appropriate for operation of a regional visitor center that \n",
       "may include, but are not limited to, charging fees, conducting events, \n",
       "and selling merchandise, tickets, and food to visitors to the Center.\n",
       "    (e) Use of Revenues.--Revenues from activities engaged in by the \n",
       "Corporation shall be used for the operation and administration of the \n",
       "Center.\n",
       "    (f ) Protection of Park.--Nothing in this section authorizes the \n",
       "Secretary or the Corporation to take any actions in derogation of the \n",
       "preservation and protection of the values and resources of Independence \n",
       "National Historical Park.\n",
       "    (g) Definitions.--In this section:\n",
       "            (1) Agreement.--The term ``Agreement'' means an agreement \n",
       "        under this section between the Secretary and the Corporation.\n",
       "            (2) Center.--The term ``Center'' means a Gateway Visitor \n",
       "        Center constructed and operated in accordance with the \n",
       "        Agreement.\n",
       "            (3) Corporation.--The term ``Corporation'' means the Gateway \n",
       "        Visitor Center Corporation (a nonprofit corporation established \n",
       "        under the laws of the Commonwealth of Pennsylvania).\n",
       "\n",
       "[[Page 113 STAT. 1680]]\n",
       "\n",
       "            (4) Secretary.--The term ``Secretary'' means the Secretary \n",
       "        of the Interior.\n",
       "\n",
       "    Approved December 7, 1999.\n",
       "\n",
       "LEGISLATIVE HISTORY--H.R. 449:\n",
       "---------------------------------------------------------------------------\n",
       "\n",
       "HOUSE REPORTS: No. 106-66 (Comm. on Resources).\n",
       "SENATE REPORTS: No. 106-68 (Comm. on Energy and Natural Resources).\n",
       "CONGRESSIONAL RECORD, Vol. 145 (1999):\n",
       "            Apr. 12, considered and passed House.\n",
       "            Nov. 19, considered and passed Senate.\n",
       "\n",
       "                                  &lt;all&gt;\n",
       "\n",
       "</pre>"
      ]
     },
     "execution_count": 21,
     "metadata": {
      "tags": []
     },
     "output_type": "execute_result"
    }
   ],
   "source": [
    "#can do soup.find('pre').text as well but it gathers everything in one horizontal line!\n",
    "\n"
   ]
  }
 ],
 "metadata": {
  "colab": {
   "collapsed_sections": [],
   "include_colab_link": true,
   "name": "MetaCrawl-MOODs.ipynb",
   "provenance": [],
   "version": "0.3.2"
  },
  "kernelspec": {
   "display_name": "Python 3",
   "language": "python",
   "name": "python3"
  },
  "language_info": {
   "codemirror_mode": {
    "name": "ipython",
    "version": 3
   },
   "file_extension": ".py",
   "mimetype": "text/x-python",
   "name": "python",
   "nbconvert_exporter": "python",
   "pygments_lexer": "ipython3",
   "version": "3.6.5"
  }
 },
 "nbformat": 4,
 "nbformat_minor": 2
}
