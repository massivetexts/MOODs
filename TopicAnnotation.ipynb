{
 "cells": [
  {
   "cell_type": "markdown",
   "metadata": {},
   "source": [
    "# Topic Annotation"
   ]
  },
  {
   "cell_type": "code",
   "execution_count": 2,
   "metadata": {},
   "outputs": [],
   "source": [
    "%load_ext autoreload\n",
    "%autoreload 2"
   ]
  },
  {
   "cell_type": "code",
   "execution_count": 16,
   "metadata": {},
   "outputs": [
    {
     "data": {
      "text/html": [
       "<div>\n",
       "<style scoped>\n",
       "    .dataframe tbody tr th:only-of-type {\n",
       "        vertical-align: middle;\n",
       "    }\n",
       "\n",
       "    .dataframe tbody tr th {\n",
       "        vertical-align: top;\n",
       "    }\n",
       "\n",
       "    .dataframe thead th {\n",
       "        text-align: right;\n",
       "    }\n",
       "</style>\n",
       "<table border=\"1\" class=\"dataframe\">\n",
       "  <thead>\n",
       "    <tr style=\"text-align: right;\">\n",
       "      <th></th>\n",
       "      <th>title</th>\n",
       "    </tr>\n",
       "    <tr>\n",
       "      <th>id</th>\n",
       "      <th></th>\n",
       "    </tr>\n",
       "  </thead>\n",
       "  <tbody>\n",
       "    <tr>\n",
       "      <th>115 H.R. 3823</th>\n",
       "      <td>Disaster Tax Relief and Airport and Airway Ext...</td>\n",
       "    </tr>\n",
       "    <tr>\n",
       "      <th>115 H.R. 88</th>\n",
       "      <td>Shiloh National Military Park Boundary Adjustm...</td>\n",
       "    </tr>\n",
       "    <tr>\n",
       "      <th>115 H.R. 1</th>\n",
       "      <td>An Act to provide for reconciliation pursuant ...</td>\n",
       "    </tr>\n",
       "  </tbody>\n",
       "</table>\n",
       "</div>"
      ],
      "text/plain": [
       "                                                           title\n",
       "id                                                              \n",
       "115 H.R. 3823  Disaster Tax Relief and Airport and Airway Ext...\n",
       "115 H.R. 88    Shiloh National Military Park Boundary Adjustm...\n",
       "115 H.R. 1     An Act to provide for reconciliation pursuant ..."
      ]
     },
     "execution_count": 16,
     "metadata": {},
     "output_type": "execute_result"
    }
   ],
   "source": [
    "from gensim.models import LdaModel\n",
    "from gensim.corpora import Dictionary\n",
    "import topics\n",
    "import pandas as pd\n",
    "meta = pd.read_csv('bill-meta.csv', index_col='id')\n",
    "meta[['title']].head(3)"
   ]
  },
  {
   "cell_type": "code",
   "execution_count": 4,
   "metadata": {},
   "outputs": [],
   "source": [
    "dictionary = Dictionary.load('data/bills_prune.dict')\n",
    "lda_40 = LdaModel.load('data/lda_40.gensim')\n",
    "lda_40._dictionary = dictionary"
   ]
  },
  {
   "cell_type": "code",
   "execution_count": 14,
   "metadata": {},
   "outputs": [
    {
     "data": {
      "text/plain": [
       "(5531, 40)"
      ]
     },
     "execution_count": 14,
     "metadata": {},
     "output_type": "execute_result"
    }
   ],
   "source": [
    "from SRP import Vector_file\n",
    "with Vector_file('data/topic-dists-title.bin') as vfile:\n",
    "    allbills = vfile.to_matrix()\n",
    "allbills['matrix'].shape"
   ]
  },
  {
   "cell_type": "code",
   "execution_count": 17,
   "metadata": {},
   "outputs": [
    {
     "data": {
      "text/html": [
       "<div>\n",
       "<style scoped>\n",
       "    .dataframe tbody tr th:only-of-type {\n",
       "        vertical-align: middle;\n",
       "    }\n",
       "\n",
       "    .dataframe tbody tr th {\n",
       "        vertical-align: top;\n",
       "    }\n",
       "\n",
       "    .dataframe thead th {\n",
       "        text-align: right;\n",
       "    }\n",
       "</style>\n",
       "<table border=\"1\" class=\"dataframe\">\n",
       "  <thead>\n",
       "    <tr style=\"text-align: right;\">\n",
       "      <th></th>\n",
       "      <th>category</th>\n",
       "      <th>useful</th>\n",
       "      <th>words</th>\n",
       "    </tr>\n",
       "  </thead>\n",
       "  <tbody>\n",
       "    <tr>\n",
       "      <th>16</th>\n",
       "      <td>Banking Regulation</td>\n",
       "      <td>Yes</td>\n",
       "      <td>board modify preservation bank judge ongoing r...</td>\n",
       "    </tr>\n",
       "    <tr>\n",
       "      <th>32</th>\n",
       "      <td>Fraud</td>\n",
       "      <td>Yes</td>\n",
       "      <td>prevent comptroller critical guideline missour...</td>\n",
       "    </tr>\n",
       "    <tr>\n",
       "      <th>17</th>\n",
       "      <td>Employment</td>\n",
       "      <td>Yes</td>\n",
       "      <td>employment market industry particularly reflec...</td>\n",
       "    </tr>\n",
       "    <tr>\n",
       "      <th>22</th>\n",
       "      <td>Aerospace and Defense</td>\n",
       "      <td>Yes</td>\n",
       "      <td>space meeting make write defense terminate exp...</td>\n",
       "    </tr>\n",
       "    <tr>\n",
       "      <th>23</th>\n",
       "      <td>Bio/Chem</td>\n",
       "      <td>Yes</td>\n",
       "      <td>remain obligation loss eligibility device resp...</td>\n",
       "    </tr>\n",
       "  </tbody>\n",
       "</table>\n",
       "</div>"
      ],
      "text/plain": [
       "                 category  ...                                              words\n",
       "16     Banking Regulation  ...  board modify preservation bank judge ongoing r...\n",
       "32                  Fraud  ...  prevent comptroller critical guideline missour...\n",
       "17             Employment  ...  employment market industry particularly reflec...\n",
       "22  Aerospace and Defense  ...  space meeting make write defense terminate exp...\n",
       "23               Bio/Chem  ...  remain obligation loss eligibility device resp...\n",
       "\n",
       "[5 rows x 3 columns]"
      ]
     },
     "execution_count": 17,
     "metadata": {},
     "output_type": "execute_result"
    }
   ],
   "source": [
    "annotations = [['Appropriations', 'Yes'], ['Family', 'Yes'], ['???', 'No'], ['???', 'No'], ['???', 'Maybe'], ['Land Use', 'Yes'], ['???', 'No'], \n",
    "               ['Catch-all / Native Nations, Water', 'No'], ['Health Planning', 'Yes'], ['History/Memorial', 'Yes'], ['Corporations', 'Yes'], ['Forests', 'Yes'], ['Service/Function', 'No'], ['???', 'No'], ['Transactions', 'Yes'], ['Revenue', 'No'], ['Banking Regulation', 'Yes'], ['Employment', 'Yes'], ['Disability', 'Yes'], ['Compensation', 'Yes'], ['Sections', 'No'], ['Indigenous Territory', 'Yes'], ['Aerospace and Defense', 'Yes'], ['Bio/Chem', 'Yes'], ['Paragraphs', 'No'], ['Retirement', 'Yes'], ['Ports and Place', 'Yes'], ['???', 'No'], ['Leave and Relief', 'Yes'], ['Oversight', 'Maybe'], ['Water', 'Yes'], ['Land', 'Yes'], ['Fraud', 'Yes'], ['Judiciary', 'Yes'], ['???', 'No'], ['???', 'No'], ['Property and Compensation', 'Yes'], ['???', 'No'], ['???', 'No'], ['???', 'No']]\n",
    "annotations = pd.DataFrame(annotations, columns=['category', 'useful'])\n",
    "\n",
    "tr = topics.TopicReport(lda_40)\n",
    "top_words = pd.Series([\" \".join(tr.top_words(topicno)) for topicno in range(tr.lda.num_topics)])\n",
    "annotations['words'] = top_words\n",
    "annotations.query('useful == \"Yes\"').sample(5)"
   ]
  },
  {
   "cell_type": "code",
   "execution_count": 18,
   "metadata": {},
   "outputs": [
    {
     "data": {
      "text/plain": [
       "['To extend the authorization of the Drug-Free Communities Support Program for an additional 5 years, to authorize a National Community Antidrug Coalition Institute, and for other purposes.',\n",
       " 'Seneca Nation Settlement Act of 1990',\n",
       " 'Judicial Amendments Act of 1994',\n",
       " 'Drug-Free Communities Act of 1997',\n",
       " 'Marrakesh Treaty Implementation Act',\n",
       " 'Fort McDowell Indian Community Water Rights Settlement Act of 2006',\n",
       " 'To amend section 326 of the Higher Education Act of 1965 to permit continued participation by Historically Black Graduate Professional Schools in the grant program authorized by that section.',\n",
       " 'To allow for election of the Delegate from Guam by other than separate ballot, and for other purposes.',\n",
       " 'A bill to disapprove of amendments to the Federal Sentencing Guidelines relating to lowering of crack sentences and sentences for money laundering and transactions in property derived from unlawful activity.',\n",
       " 'To amend the Act of October 15, 1966 (80 Stat. 915), as amended, establishing a program for the preservation of additional historic property throughout the Nation, and for other purposes.']"
      ]
     },
     "execution_count": 18,
     "metadata": {},
     "output_type": "execute_result"
    }
   ],
   "source": [
    "# Get top bills for a given topic number\n",
    "#topicn += 1\n",
    "topicn = 6\n",
    "top_probs = tr.top_docs(topicn, allbills['matrix'], allbills['names'])\n",
    "meta.loc[top_probs, 'title'].tolist()"
   ]
  },
  {
   "cell_type": "code",
   "execution_count": 19,
   "metadata": {},
   "outputs": [],
   "source": [
    "annotations.to_csv('data/lda_40.annotations.gz', compression='gzip')"
   ]
  },
  {
   "cell_type": "code",
   "execution_count": null,
   "metadata": {},
   "outputs": [],
   "source": []
  }
 ],
 "metadata": {
  "kernelspec": {
   "display_name": "Python 3",
   "language": "python",
   "name": "python3"
  },
  "language_info": {
   "codemirror_mode": {
    "name": "ipython",
    "version": 3
   },
   "file_extension": ".py",
   "mimetype": "text/x-python",
   "name": "python",
   "nbconvert_exporter": "python",
   "pygments_lexer": "ipython3",
   "version": "3.6.7"
  }
 },
 "nbformat": 4,
 "nbformat_minor": 4
}
