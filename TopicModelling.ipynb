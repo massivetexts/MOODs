{
 "cells": [
  {
   "cell_type": "markdown",
   "metadata": {},
   "source": [
    "# Basic Topic Modelling"
   ]
  },
  {
   "cell_type": "code",
   "execution_count": 1,
   "metadata": {},
   "outputs": [],
   "source": [
    "%load_ext autoreload\n",
    "%autoreload 2"
   ]
  },
  {
   "cell_type": "code",
   "execution_count": 2,
   "metadata": {},
   "outputs": [],
   "source": [
    "import glob\n",
    "import re\n",
    "import moods\n",
    "import os\n",
    "import pandas as pd\n",
    "import random\n",
    "from gensim.corpora import Dictionary, MmCorpus\n",
    "from gensim.models import LdaModel, CoherenceModel, TfidfModel"
   ]
  },
  {
   "cell_type": "code",
   "execution_count": 3,
   "metadata": {},
   "outputs": [],
   "source": [
    "billpaths = glob.glob('/data/bills/txt/*')\n",
    "random.shuffle(billpaths)"
   ]
  },
  {
   "cell_type": "code",
   "execution_count": 46,
   "metadata": {},
   "outputs": [],
   "source": [
    "import logging\n",
    "logging.basicConfig(format='%(levelname)s : %(message)s', level=logging.INFO)\n",
    "logging.root.level = logging.INFO"
   ]
  },
  {
   "cell_type": "code",
   "execution_count": 35,
   "metadata": {},
   "outputs": [
    {
     "name": "stdout",
     "output_type": "stream",
     "text": [
      "[(0, 2), (1, 1), (2, 1), (3, 1), (4, 2), (5, 2), (6, 3), (7, 1), (8, 1), (9, 1), (10, 1), (11, 1), (12, 1), (13, 1), (14, 1), (15, 2), (16, 1), (17, 1), (18, 2), (19, 2), (20, 1), (21, 2), (22, 1), (23, 1), (24, 1), (25, 2), (26, 1), (27, 2), (28, 1), (29, 2)]\n"
     ]
    }
   ],
   "source": [
    "txts = moods.cleaned_bow_iter('/data/bills/cleaned/by_para.gz', dictionary, include_name=False)\n",
    "for txt in txts:\n",
    "    print(txt)\n",
    "    break"
   ]
  },
  {
   "cell_type": "code",
   "execution_count": 31,
   "metadata": {},
   "outputs": [],
   "source": [
    "%%time\n",
    "if not os.path.exists('/data/bills/paragraphs.mm'):\n",
    "    # First time training of dictionary, serializing corpus as matrix market, and learning term weights\n",
    "    print('learn')\n",
    "    txts = moods.cleaned_txts_iter('/data/bills/cleaned/by_para.gz', include_name=False)\n",
    "    dictionary = Dictionary(txts)\n",
    "    dictionary.filter_extremes(no_below=10)\n",
    "    dictionary.compactify()\n",
    "    dictionary.save('/data/bills/bills.dictionary')\n",
    "    \n",
    "    bows = moods.cleaned_bow_iter('/data/bills/cleaned/by_para.gz', dictionary, include_name=False, min_tokens_per_doc=20)\n",
    "    MmCorpus.serialize('/data/bills/paragraphs.mm', bows, progress_cnt=200000)\n",
    "    mmcorp = MmCorpus('/data/bills/paragraphs.mm')\n",
    "    \n",
    "    tfidf = TfidfModel(mmcorp)\n",
    "    tfidf.save('/data/bills/models/tfidf.model')\n",
    "else:\n",
    "    # Why do it again, right?\n",
    "    dictionary = Dictionary.load('/data/bills/bills.dictionary')\n",
    "    mmcorp = MmCorpus('/data/bills/paragraphs.mm')\n",
    "    tfidf = TfidfModel.load('/data/bills/models/tfidf.model')\n",
    "    \n",
    "tfidf_corpus = tfidf[mmcorp]"
   ]
  },
  {
   "cell_type": "code",
   "execution_count": 39,
   "metadata": {},
   "outputs": [
    {
     "name": "stdout",
     "output_type": "stream",
     "text": [
      "CPU times: user 16.3 s, sys: 258 ms, total: 16.5 s\n",
      "Wall time: 16.5 s\n"
     ]
    }
   ],
   "source": [
    "%%time\n",
    "bows = moods.cleaned_bow_iter('/data/bills/cleaned/by_para.gz', dictionary, include_name=False, min_tokens_per_doc=20)\n",
    "MmCorpus.serialize('/data/bills/paragraphs.mm', bows, progress_cnt=200000)\n",
    "mmcorp = MmCorpus('/data/bills/paragraphs.mm')\n",
    "\n",
    "# TFIDF messes up training?\n",
    "tfidf = TfidfModel(mmcorp)\n",
    "tfidf.save('/data/bills/models/tfidf.model')\n",
    "tfidf_corpus = tfidf[mmcorp]"
   ]
  },
  {
   "cell_type": "code",
   "execution_count": 57,
   "metadata": {},
   "outputs": [
    {
     "name": "stdout",
     "output_type": "stream",
     "text": [
      "[(0, 0.3955654281267836), (1, 0.03828989578045541), (2, 0.10837295089734587), (3, 0.11449119223505617), (4, 0.25161749142333556), (5, 0.32341913163609726), (6, 0.2196162732052297), (7, 0.10517988138080964), (8, 0.162142454596323), (9, 0.10714095632968969), (10, 0.08678382209608766), (11, 0.17371679419139766), (12, 0.2403933458886631), (13, 0.07626644757137868), (14, 0.14150504754712298), (15, 0.12269731063521946), (16, 0.11818381183918968), (17, 0.11156722018575885), (18, 0.17329008712957192), (19, 0.28550055112632916), (20, 0.1654840656856758), (21, 0.1312050090110232), (22, 0.08321076334368835), (23, 0.03615902067005341), (24, 0.07714863502627033), (25, 0.41305107392028306), (26, 0.059691167048662695), (27, 0.08257625500452671), (28, 0.17520476589479506), (29, 0.08610330920935243)]\n"
     ]
    }
   ],
   "source": [
    "for text in tfidf_corpus:\n",
    "    print(text)\n",
    "    break"
   ]
  },
  {
   "cell_type": "code",
   "execution_count": 58,
   "metadata": {
    "scrolled": true
   },
   "outputs": [
    {
     "name": "stdout",
     "output_type": "stream",
     "text": [
      "0 \t law enforcement continue set applicable accord origin privilege accordance aside trial impair\n",
      "1 \t fund act available trust appropriate provide shall purpose use pursuant ground santa\n",
      "2 \t protection homeland border agent customs mobile stabilization sensitive patrol homeowner headquarters implementing\n",
      "3 \t consider record house senate congressional pass vol july march august amendment presidential\n",
      "4 \t federal agency government direct head capitol public architect shall receive originate purpose\n",
      "5 \t control own railroad line bay global parcel lot materially passive domestically include\n",
      "6 \t disability permit permanent leave use remainder vii connect accommodate deduct refusal older\n",
      "7 \t cost total include selection sponsor significant weather possible barrier exceed relate negotiation\n",
      "8 \t appoint executive schedule position competitive appointment pay regard shall rate director level\n",
      "9 \t education institution educational student college dissemination quality include setting purpose receive assurance\n",
      "10 \t technical partnership description survey single amendments reflect understanding particularly memorandum conform sacramento\n",
      "11 \t energy cooperative power allocation allocate scientific export police body clean electric adjacent\n",
      "12 \t home duty travel component regular expense subsistence include diem allow member book\n",
      "13 \t available provide shall remain exceed heading u.s.c. amount human carry necessary public\n",
      "14 \t loan corporation foreign guarantee domestic trade financing lender profit define earning regard\n",
      "15 \t type manufacturer 109th live u.s. man suitable george metric mount foregoing importer\n",
      "16 \t president extent consistent practicable vice likely shall historical soon determine ensure chicago\n",
      "17 \t approve issue approval issuance assurance zone deny relocation academy bond subject retention\n",
      "18 \t management resource sharing highway budget integration appear combine include priority circular sufficiently\n",
      "19 \t return help contribute coin currency multiple acceptable chain freedom letter properly proportion\n",
      "20 \t provision law shall owner section directly provide apply pursuant relate applicable act\n",
      "21 \t american effort engage waiver islands northern bring waive commonwealth guam applicability virgin\n",
      "22 \t increase number total precede percentage equal average percent time exceed annual shelter\n",
      "23 \t commission space shall affiliate john exclusive carry kennedy f. nationwide centennial necessary\n",
      "24 \t administrator services staff skill chairman expert fix witness question carry testimony shall\n",
      "25 \t secretary shall determine request determination agriculture consideration require section appropriate provide purpose\n",
      "26 \t project demonstration youth construction carry obligate select completion installation projects funding secretary\n",
      "27 \t fire maximum bankruptcy nevada reorganization existence verification cancel amounts toll substantive procedural\n",
      "28 \t district financial columbia satellite remote officers sensing clarify unclassified archives include align\n",
      "29 \t study conduct engineering affordable aircraft shall flight include subsidize architectural promoter identify\n",
      "30 \t act section u.s.c. title amend sec cite note stat reform purpose '\n",
      "31 \t transfer country participate participation professional royalty purpose compensate addition time provide historically\n",
      "32 \t official reimbursement branch veteran consolidated courts confirm entitlement raise disabled costs satisfied\n",
      "33 \t requirement meet limit clause hazard firm applicable intent conjunction originally reliable redesignate\n",
      "34 \t acquisition read acquire counter outer drugs follow hospitals nominee acquisitions 2- rest\n",
      "35 \t service provide access possession include innovation americans disabilities public accessible accommodation buildings\n",
      "36 \t new york farm holder geographic tree liberty acreage sugar regime burn follow\n",
      "37 \t storage assign disposal surface pueblo assignment drought cooperate groundwater insufficient prioritize attention\n",
      "38 \t derive legal alien transaction responsible road island pool rhode race nonresident horse\n",
      "39 \t bureau conservation petition discretion subsequent able compute statistics less trail 12-month extraordinary\n",
      "40 \t excess % minimum calendar initial commissioner beginning household sixth contain follow month\n",
      "41 \t jurisdiction special final commercial document matter navigation revise subject spend call adjudicate\n",
      "42 \t credit portion oil upper residence build gas attributable loans banks unpaid pattern\n",
      "43 \t entity solely governmental transition political actually candidate outlet trustees correspond affiliation ethics\n",
      "44 \t private practice obtain sector enable experience world organization assure enrol innovative use\n",
      "45 \t annual protect transmit specifically april target scope weapon monthly destruction privacy telecommunication\n",
      "46 \t allowance supplemental modernization mutual pro territorial reuse benefits rata recycling revocation encumber\n",
      "47 \t vehicle passenger motor september exceed residential include therefor renovation use assumption draw\n",
      "48 \t establish advisory group establishment equivalent shall execution jointly working vacancy waterway subcommittee\n",
      "49 \t county govern article competition interim reimbursable respectively bylaw holding incorporation accordance shall\n",
      "50 \t civil independent criminal exercise prohibition step mineral readily closure subject misconduct seizure\n",
      "51 \t recognize recognition equity supplement southern physician gold permanently diversity exterior contiguous legally\n",
      "52 \t board review capability shall respond consequence cybersecurity merit composition determine subject relate\n",
      "53 \t unit enhance recovery port limited subcontractor choice use well lessee improve hiring\n",
      "54 \t training comprehensive strategy preservation include chemical computer bridge fort fifth awareness improve\n",
      "55 \t safety nonprofit public crime safe injury distribute monetary nonreimbursable records guide omnibus\n",
      "56 \t fee attorney counsel demand stamp cancer shall ed breast rename accordance section\n",
      "57 \t write modify operational entry broker bind withdrawal cancellation solution liquidate furnishing time\n",
      "58 \t citizen furnish estate beneficiary village apportion indicator james excessive northwest jackson succession\n",
      "59 \t operation maintenance operate cultural maintain fishery support object religious route default eastern\n",
      "60 \t union gift death tobacco naval bequest premise formulate strength situate extinguish determined\n",
      "61 \t personnel assist rights detail indirect broad rely based numerical harmless privilege opening\n",
      "62 \t conference agree contractor s. november lieu february nos livestock projection overpayment grazing\n",
      "63 \t action notify notification removal take alteration remove reason phase threaten unlawful believe\n",
      "64 \t emergency response feasibility enhancement preparedness grantee woman volunteer include elderly levee focus\n",
      "65 \t rate current immediately commit beach comparable wage daily yield applicable maturity overtime\n",
      "66 \t capacity encourage student location particular scholarship attend participation continuous responder athletic assets\n",
      "67 \t percent income low share shall bear copyright gross exceed determine distribution taxable\n",
      "68 \t activity industry carry include relate activities cargo economy container core integral lessor\n",
      "69 \t iv initiative primary iii subpart disease victim coordinator accelerate contributions cell acceleration\n",
      "70 \t association legislative history ability h.r. approved close periodic recent census town legislature\n",
      "71 \t authorize appropriations appropriate carry authorization section addition september hire purpose exceed sec\n",
      "72 \t information risk mitigation include inspection disclosure model problem require relate disclose customer\n",
      "73 \t party proceeding construe shall relief prohibit section commence remedy producer sign render\n",
      "74 \t agreement enter representative list conflict pursuant negotiate minimize machine collective bargaining mid\n",
      "75 \t need policy involve mission band give execute ensure direction meaning examine essential\n",
      "76 \t assistance provide drug circumstance knowledge support premium receive adverse subsidy inquiry section\n",
      "77 \t state local shall government subdivision provide include pollution large political receive purpose\n",
      "78 \t application submit delivery seek receipt time require shall receive reasonably borrower deliver\n",
      "79 \t sec subtitle title table short provisions definition amendment certain authorization content miscellaneous\n",
      "80 \t amend follow insert strike central intelligence nuclear sec processing ceiling relate section\n",
      "81 \t impact undertake monitoring specie successful outcome decrease fellowship timber african species duration\n",
      "82 \t quality goal lead objective hospital progress constitute meet monitor identify include satisfaction\n",
      "83 \t prior tax thereof impose modification adopt adoption combination dwell use fees retail\n",
      "84 \t labor medical affairs veterans health mental commitment administration sewer environmentally terminal stem\n",
      "85 \t interior wildlife fish factor habitat arrangement 108th absence white choose opinion canyon\n",
      "86 \t place communication fail sufficient substantial consent elect advice election different background lack\n",
      "87 \t library form museum copy proposal produce alcohol preserve digital use characteristic store\n",
      "88 \t land forest major plant acre map generally approximately public use locate mile\n",
      "89 \t lease site class rail transport respective spouse leasing die definitions intercity sit\n",
      "90 \t administer field enforce wastewater disseminate calculate unique laws sustain link warrant onsite\n",
      "91 \t plan participant network include shall contingent provide formal accordance sponsor describe intention\n",
      "92 \t housing consumer behalf commodity expiration exclude manufacture old successor qualification expire generate\n",
      "93 \t indian tribe organization tribal additional reservation native indians alaska trust tribes provide\n",
      "94 \t related economic terrorism terrorist growth learning occupy attendance combat families farmer hope\n",
      "95 \t program grant shall carry section provide award degree include priority funding assist\n",
      "96 \t product carrier transmission physical common instrumentality culture soil seller productivity custom presence\n",
      "97 \t exist exchange sentence secure comply option intergovernmental expeditiously breach unreasonable discover computation\n",
      "98 \t _ army procurement corps marine navy ship telecommunications september congress weapons ammunition\n",
      "99 \t court justice judicial judge appeal discharge claims file appeals shall circuit supreme\n",
      "100 \t office designate know locate designation post shall street memorial postal los angeles\n",
      "101 \t propose institute status prepare complete terminate termination shall contain inclusion submit desire\n",
      "102 \t order supply price substance issue timely require pursuant outpatient prevent use shortfall\n",
      "103 \t international commerce reduction reduce interstate rent treaty efficiency eliminate utilization burden tributary\n",
      "104 \t building deem reference pennsylvania refer michigan minnesota paper e. 112th courthouse shall\n",
      "105 \t term mean purpose definition include section define employer employ sec b respect\n",
      "106 \t nation recreation people uniform works ocean contractual deed light rating allottee tier\n",
      "107 \t report submit . congress comm june annual annually accompany september oversight panel\n",
      "108 \t technology force air test threat atmospheric wide evaluation systems vulnerability screening detect\n",
      "109 \t council performance process criterion rehabilitation facilitate membership interagency integrate update preparation include\n",
      "110 \t extension extend temporary fuel alter pension bonus katrina charitable displace sustainable uninsured\n",
      "111 \t regulation prescribe shall following promulgate separate have require applicable necessary compliance section\n",
      "112 \t date enactment act shall later day year month sec secretary section effective\n",
      "113 \t rule affect reception ownership adult governor requirements inconsistent emission radio renewal forego\n",
      "114 \t contract - federal non enter share provide non- shall subject award obligate\n",
      "115 \t health insurance condition coverage et children enrollment respect fourth subject xix provide\n",
      "116 \t work function perform rental mexico suspension compare agreements awarding usefulness include carry\n",
      "117 \t year fiscal sum section amount shall end appropriate allotment funding follow expenditure\n",
      "118 \t assessment material opportunity specify hearing evidence submission restrict incorporate delay protective fact\n",
      "119 \t base lake north south west east boundary channel say distance s hawaii\n",
      "120 \t finding production judgment intend television purpose tool confidential b. thereon classify justification\n",
      "121 \t representation depository incentive sound recording manufacturing warning film western exhibit abroad cross\n",
      "122 \t title chapter ii subchapter item v relate section sec reconstruction table provisions\n",
      "123 \t respect prevention treatment abuse penalty coordination identification treat fraud relate purchaser involvement\n",
      "124 \t foundation university virginia compact free organize substitute salt black areas feed fast\n",
      "125 \t replacement expansion course part dealer transit mass contracting j k l guaranty\n",
      "126 \t shall notice paragraph violation reasonable register event publish provide comment day federal\n",
      "127 \t restoration vessel food operator ecosystem fully promotion st. disposition volume near sole\n",
      "128 \t specific irrigation advanced reauthorization authorized size refuge main moderate spill honor birth\n",
      "129 \t san consist original restore earth import block comprise roll apache print fill\n",
      "130 \t card check fine shoreline institutions prisoner merger continental g miss charleston tech\n",
      "131 \t payment pay salary applicant self receive benefit section sum shall require payable\n",
      "132 \t water system operating use municipal industrial facilities conclusion middle exclusively drinking maintain\n",
      "133 \t child care benefit provider october immigration foster provide citizenship professional pt extended\n",
      "134 \t estimate statement minority grants statutory legislation vote sexual nationality budgetary sciences printing\n",
      "135 \t investment capital company banking stock hold creditor net asset mining investor 1st\n",
      "136 \t laboratory statute welfare leadership outreach centers medicare occupational valid supervisory sample medicaid\n",
      "137 \t recommendation future meeting include judiciary recommend utility appropriate database shall associated discussion\n",
      "138 \t committee senate house representatives shall report committees submit affairs day secretary later\n",
      "139 \t department defense military civilian agencies statistical endanger appropriate include provide secretary joint\n",
      "140 \t member family active armed forces grade educate illness duty manner rank include\n",
      "141 \t charge device manage eligibility previously manager dependent ongoing aquatic correct capable possess\n",
      "142 \t business small compensation asset unemployment effectively rules forfeiture defer formation inflation technologies\n",
      "143 \t person life shall swap section subject issuer exception qualify apply respect meaning\n",
      "144 \t general inspector comptroller audit workforce shall funding accountability buffalo appropriate specialized contain\n",
      "145 \t expense necessary include measure joint consortium connection partner motion dispose provide proportionate\n",
      "146 \t interest good principal structure outstanding avoid instrument assume beneficial determine illegal stream\n",
      "147 \t urban collect reclamation assess reside registration actual refund persons decline relate redress\n",
      "148 \t aggregate vi dollar higher exclusion generation individuals elimination xviii decedent y standardize\n",
      "149 \t equipment examination audits suspend acceptance movement assisted plans purpose device reject flexible\n",
      "150 \t cover relative immediate republic equitable advise contact message bilateral products potentially supervisor\n",
      "151 \t public law congress note enact house senate representatives america assemble states united\n",
      "152 \t associate source great method category protocol clear lock longer integrated p timing\n",
      "153 \t director shall consultation appropriate evaluation effectiveness include evaluate coordination consult coordinate ensure\n",
      "154 \t bank agricultural represent valley region release certificate colorado lakes pende pacific cap\n",
      "155 \t change address alternative way potential user previous mechanism easement pertain challenge use\n",
      "156 \t sale loss offer proceed sell animal insured marketing bus use proper gain\n",
      "157 \t engineers regional repair infrastructure analysis utilize federally critical society canada century pre\n",
      "158 \t property improvement acquire real personal construct tenant use insure purpose conversion include\n",
      "159 \t concern value market promote fair task cash accomplish difference equal healthy determine\n",
      "160 \t individual qualified long living few experience professional provide manner res receive functional\n",
      "161 \t mortgage collection relationship discrimination regulate aspect seal color peace oral survivor signatory\n",
      "162 \t national reserve guard coast better southeast vaccine king martin seasonal campus maintain\n",
      "163 \t design procedure planning restriction documentation use gila search technique claimant adjudication label\n",
      "164 \t vocational offset airport counseling placement exempt litigation taxis nursing owe exhaust airway\n",
      "165 \t advance certification revenue certify internal code gulf satisfy intentional monie require determine\n",
      "166 \t natural resources age minor energy master fishing incidental earn rulemaking clearance green\n",
      "167 \t community rural enterprise license inventory revitalization automate self- discovery markets development purpose\n",
      "168 \t obligation purchase debt similar expertise range substantially testing voting include chargeable purpose\n",
      "169 \t result saving initiate detailed summary overall inform advocate thrift explanation savings continuation\n",
      "170 \t station finance worker strengthen pipeline exemption replace telephone means n. ways pumping\n",
      "171 \t amount treasury deposit expenditure incur shall compliance account reimburse repayment adequate receive\n",
      "172 \t congress entitle job create sense bill entire resolve anti reconciliation sec omnibus\n",
      "173 \t section subsection b shall c describe paragraph standard d subparagraph e provide\n",
      "174 \t river california basin dam harbor arizona creek mississippi coastal louisiana florida texas\n",
      "175 \t security social role registry traffic reauthorize firearm insurer experimental clinical empowerment reinvestment\n",
      "176 \t authority cooperation regulatory revision governing provide deadline sec functioning thorough use presidentially\n",
      "177 \t development research support center technology detection engineer resource inter demonstration use early\n",
      "178 \t right claim damage settlement liability cause arise conveyance trustee present shall convey\n",
      "179 \t designated contingency municipality existing confirmation reliability practitioner safeguard signature farmers portal highest\n",
      "180 \t adjustment money aid quarter adjust charter lower index metropolitan preference quarterly devise\n",
      "181 \t foot point find resident demonstrate run coordinate publication canal diversion start reservoir\n",
      "182 \t expend administration park assistant retain aviation recreational houses interpretation competent wildfire years\n",
      "183 \t environmental division patent balance human waste operations hazardous programs rescind agencies guaranteed\n",
      "184 \t high datum level recipient achieve expand pilot improve data require include consolidate\n",
      "185 \t case basis decision filing strategic securities declaration referral verify time organizational require\n",
      "186 \t area flood disaster hurricane relief literacy carolina storm locate declare robert stafford\n",
      "187 \t states united code title section sec shall purpose schools relate include follow\n",
      "188 \t facility construction distribution include sanction crew withhold nature hunting addition require furnishing\n",
      "189 \t eligible contribution retirement neglect kind receive o complex campaign m eligibility h\n",
      "190 \t develop implement implementation relevant parent element early ensure effective include visit calculation\n",
      "191 \t account file take accept failure reporting voluntary magistrate clerk shall require unnecessary\n",
      "192 \t school secondary teacher elementary local hour advantage lawful xvi supplant threshold modifications\n",
      "193 \t employee officer chief responsibility shall career chairperson executive senior duty learn directors\n",
      "194 \t appropriation pursuant budget provide section resolution expenses deficit balanced accounting dispute acts\n",
      "195 \t serve population incident team flow secretaries rescue retire collaborative noncompliance unable abandon\n",
      "196 \t administration transportation environment electronic infrastructure war sea efficient atlantic directorate surge legacy\n",
      "197 \t period effect section begin end shall apply effective date amendment add sec\n",
      "198 \t congress city second america hold january washington session enact representatives day senate\n",
      "199 \t administrative employment award investigation basic open medium normal notwithstanding fitness news shall\n"
     ]
    }
   ],
   "source": [
    "logging.root.level = logging.WARN # Too much logging at the INFO level, temporarily switch to WARN\n",
    "lda_200 = LdaModel(mmcorp, num_topics=200, passes=2, alpha='auto', eta='auto', \n",
    "                   id2word = dictionary, per_word_topics=True)\n",
    "for topicno in range(lda_200.num_topics):\n",
    "    print(topicno, \"\\t\", \" \".join([word for word, prob in lda_200.show_topic(topicno, topn=12)]))\n",
    "lda_200.save('/data/bills/models/lda_200.gensim', separately=['expElogbeta', 'sstats', 'alpha', 'eta'])\n",
    "logging.root.level = logging.INFO"
   ]
  },
  {
   "cell_type": "markdown",
   "metadata": {},
   "source": [
    "## Examine topic models"
   ]
  },
  {
   "cell_type": "code",
   "execution_count": 31,
   "metadata": {
    "scrolled": true
   },
   "outputs": [
    {
     "data": {
      "text/plain": [
       "0.33035154894675844"
      ]
     },
     "execution_count": 31,
     "metadata": {},
     "output_type": "execute_result"
    }
   ],
   "source": [
    "txts = [txt for name, txt in moods.cleaned_txts_iter('/data/bills/cleaned/by_title.gz')]\n",
    "cm = CoherenceModel(model=lda_40, texts=txts, coherence='c_v')\n",
    "coherence = cm.get_coherence()  # get coherence value\n",
    "coherence"
   ]
  },
  {
   "cell_type": "code",
   "execution_count": 35,
   "metadata": {},
   "outputs": [
    {
     "data": {
      "text/plain": [
       "4     0.142472\n",
       "32    0.192494\n",
       "27    0.205974\n",
       "34    0.212980\n",
       "35    0.222561\n",
       "dtype: float64"
      ]
     },
     "execution_count": 35,
     "metadata": {},
     "output_type": "execute_result"
    }
   ],
   "source": [
    "# Get the bill-level per-topic coherence.\n",
    "# The topics were trained on paragraphs, so this confound the strength of the model with how concise the \n",
    "# overall bills are, I think.\n",
    "per_topic_c = cm.get_coherence_per_topic()\n",
    "pd.Series(per_topic_c).sort_values()[:5]"
   ]
  },
  {
   "cell_type": "code",
   "execution_count": 37,
   "metadata": {},
   "outputs": [
    {
     "name": "stdout",
     "output_type": "stream",
     "text": [
      "Least coherent topics\n",
      "4 0.14 treasury arizona sector advance feature voluntary repayment army regulations derive t. michigan\n",
      "32 0.19 prevent comptroller critical guideline missouri respond invest oregon longer displace minimize diverse\n",
      "27 0.21 relevant encourage task projects train minnesota works expect quantity fourth applications leasing\n",
      "34 0.21 description operate clause own connection single political reside possible saving economy household\n",
      "35 0.22 insert strike president mexico speaker recreation vice engage bring issuance enforce john\n",
      "\n",
      "Most coherent topics\n",
      "15 0.46 s. november revenue march april combined donor promulgate treat expenditure october july\n",
      "13 0.48 northern subparagraph calendar facilities mariana electric petroleum describe strategic specific deconfliction redirection\n",
      "3 0.51 precede course generally d. fiscal year requests thereof begin originator nichols systemwide\n",
      "25 0.53 respectively retirement accounting advancement records employees inspector administration soon originator deconfliction transliteration\n",
      "29 0.54 pass homeland congressional consider vol house comm . senate record construe domestic\n"
     ]
    }
   ],
   "source": [
    "print('Least coherent topics')\n",
    "for t in [4, 32, 27, 34, 35]:\n",
    "    print(t, \"%.2f\" % per_topic_c[t], \" \".join([word for word, prob in lda_40.show_topic(t, topn=12)]))\n",
    "    \n",
    "print('\\nMost coherent topics')\n",
    "for t in [15, 13, 3, 25, 29]:\n",
    "    print(t, \"%.2f\" % per_topic_c[t], \" \".join([word for word, prob in lda_40.show_topic(t, topn=12)]))"
   ]
  },
  {
   "cell_type": "markdown",
   "metadata": {},
   "source": [
    "### Infer probability distributions "
   ]
  },
  {
   "cell_type": "code",
   "execution_count": 40,
   "metadata": {},
   "outputs": [
    {
     "name": "stdout",
     "output_type": "stream",
     "text": [
      "title\n",
      "congress\n",
      "sponsor\n",
      "part\n",
      "para\n"
     ]
    }
   ],
   "source": [
    "import gzip\n",
    "import numpy as np \n",
    "from SRP import Vector_file\n",
    "\n",
    "for cat in ['title', 'congress', 'sponsor', 'part', 'para']:\n",
    "    print(cat)\n",
    "    with Vector_file('data/topic-dists-%s.bin' %cat, mode='w', dims=lda_40.num_topics) as vfile:\n",
    "        for name, bow in moods.cleaned_bow_iter('data/cleaned_by_%s.gz' % cat, dictionary):\n",
    "            vec = np.array([prob for topicno, prob in lda_40.get_document_topics(tfidf[bow], minimum_probability=-1)])\n",
    "            vfile.add_row(\"%s_%s\" % (cat, name), vec)"
   ]
  }
 ],
 "metadata": {
  "kernelspec": {
   "display_name": "Python 3",
   "language": "python",
   "name": "python3"
  },
  "language_info": {
   "codemirror_mode": {
    "name": "ipython",
    "version": 3
   },
   "file_extension": ".py",
   "mimetype": "text/x-python",
   "name": "python",
   "nbconvert_exporter": "python",
   "pygments_lexer": "ipython3",
   "version": "3.6.7"
  }
 },
 "nbformat": 4,
 "nbformat_minor": 4
}
