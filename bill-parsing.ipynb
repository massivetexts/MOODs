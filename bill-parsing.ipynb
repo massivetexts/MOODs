{
 "cells": [
  {
   "cell_type": "markdown",
   "metadata": {},
   "source": [
    "# MOODs Bill Parsing"
   ]
  },
  {
   "cell_type": "code",
   "execution_count": 36,
   "metadata": {},
   "outputs": [
    {
     "name": "stdout",
     "output_type": "stream",
     "text": [
      "The autoreload extension is already loaded. To reload it, use:\n",
      "  %reload_ext autoreload\n"
     ]
    }
   ],
   "source": [
    "%load_ext autoreload\n",
    "%autoreload 2"
   ]
  },
  {
   "cell_type": "code",
   "execution_count": 37,
   "metadata": {},
   "outputs": [],
   "source": [
    "import glob\n",
    "import re\n",
    "from moods import *\n",
    "billpaths = glob.glob('/data/bills/txt/*')"
   ]
  },
  {
   "cell_type": "code",
   "execution_count": 38,
   "metadata": {},
   "outputs": [],
   "source": [
    "with open(billpaths[14]) as f:\n",
    "    txt = f.read()"
   ]
  },
  {
   "cell_type": "code",
   "execution_count": 57,
   "metadata": {},
   "outputs": [
    {
     "name": "stdout",
     "output_type": "stream",
     "text": [
      "[115th Congress Public Law 143] Public Law 115-143 115th Congress\n",
      "                                 An Act\n",
      "  To designate the facility of the United States Postal Service located at \n",
      " 259 Nassau Street, Suite 2 in Princeton, New Jersey, as the ``Dr. John \n",
      "   F. Nash, Jr. Post Office''.  \n",
      "    Be it enacted by the Senate and House of Representatives of the  United States of America in Congress assembled, SECTION 1. DR. JOHN F. NASH, JR. POST OFFICE.\n",
      "    (a) Designation.--The facility of the United States Postal Service  located at 259 Nassau Street, Suite 2 in Princeton, New Jersey, shall be  known and designated as the ``Dr. John F. Nash, Jr. Post Office''.\n",
      "    (b) References.--Any reference in a law, map, regulation, document,  paper, or other record of the United States to the facility referred to  in subsection (a) shall be deemed to be a reference to the ``Dr. John F.  Nash, Jr. Post Office''.\n",
      "    Approved March 23, 2018. LEGISLATIVE HISTORY--H.R. 2302:\n",
      "--------------------------------------------------------------------------- CONGRESSIONAL RECORD:\n",
      "                                                        Vol. 163 (2017):\n",
      "                                    Oct. 11, considered and passed \n",
      "                                        House.\n",
      "                                                        Vol. 164 (2018):\n",
      "                                    Mar. 7, considered and passed \n",
      "                                        Senate.\n",
      "                                  \n",
      "\n"
     ]
    }
   ],
   "source": [
    "cleaned = moods.parse_raw(txt)"
   ]
  },
  {
   "cell_type": "code",
   "execution_count": null,
   "metadata": {},
   "outputs": [],
   "source": []
  }
 ],
 "metadata": {
  "kernelspec": {
   "display_name": "Python 3",
   "language": "python",
   "name": "python3"
  },
  "language_info": {
   "codemirror_mode": {
    "name": "ipython",
    "version": 3
   },
   "file_extension": ".py",
   "mimetype": "text/x-python",
   "name": "python",
   "nbconvert_exporter": "python",
   "pygments_lexer": "ipython3",
   "version": "3.6.7"
  }
 },
 "nbformat": 4,
 "nbformat_minor": 4
}
