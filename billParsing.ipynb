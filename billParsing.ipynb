{
 "cells": [
  {
   "cell_type": "markdown",
   "metadata": {},
   "source": [
    "# MOODs Bill Parsing\n",
    "\n",
    "Examples of using the Bill class."
   ]
  },
  {
   "cell_type": "code",
   "execution_count": 1,
   "metadata": {},
   "outputs": [],
   "source": [
    "%load_ext autoreload\n",
    "%autoreload 2"
   ]
  },
  {
   "cell_type": "code",
   "execution_count": 2,
   "metadata": {},
   "outputs": [],
   "source": [
    "import glob\n",
    "import re\n",
    "import moods\n",
    "import spacy\n",
    "nlp = spacy.load(\"en_core_web_sm\")\n",
    "billpaths = glob.glob('/data/bills/txt/*')"
   ]
  },
  {
   "cell_type": "code",
   "execution_count": 4,
   "metadata": {},
   "outputs": [
    {
     "name": "stdout",
     "output_type": "stream",
     "text": [
      "[Congressional Bills 115th Congress]\n",
      "[From the U.S. Government Publishing Office]\n",
      "[S. 3021 Enrolled Bill (ENR)]\n",
      "\n",
      "        S.3021\n",
      "\n",
      "                     One Hundred Fifteenth Congress\n",
      "\n",
      "                  \n"
     ]
    }
   ],
   "source": [
    "b = moods.Bill(billpaths[21])\n",
    "print(b._raw[:200])"
   ]
  },
  {
   "cell_type": "code",
   "execution_count": 5,
   "metadata": {},
   "outputs": [
    {
     "name": "stdout",
     "output_type": "stream",
     "text": [
      "['[', 'congressional', 'Bills', '115th', 'Congress', ']', 'S.3021', 'Fifteenth', 'Congress', 'United', 'States', 'America', 'SECOND', 'SESSION', 'Begun', 'hold', 'City', 'Washington', 'Wednesday', ',', 'day', 'January', ',', 'thousand', 'eighteen', 'Act', 'provide', 'improvement', 'river', 'harbor', 'United', 'States', ',', 'provide', 'conservation', 'development', 'water', 'related', 'resource', ',', 'provide', 'water', 'pollution', 'control', 'activity', ',', 'purpose', '.', 'enact', 'Senate', 'House', 'Representatives', 'United', 'States', 'America', 'Congress', 'assemble', ',', 'section', '1', '.', 'short', 'title', ';', 'table', 'CONTENTS', '.']\n"
     ]
    }
   ],
   "source": [
    "for line in b.lines(nlp_doc=True):\n",
    "    print([word.lemma_ for word in line if not word.is_stop])\n",
    "    break"
   ]
  }
 ],
 "metadata": {
  "kernelspec": {
   "display_name": "Python 3",
   "language": "python",
   "name": "python3"
  },
  "language_info": {
   "codemirror_mode": {
    "name": "ipython",
    "version": 3
   },
   "file_extension": ".py",
   "mimetype": "text/x-python",
   "name": "python",
   "nbconvert_exporter": "python",
   "pygments_lexer": "ipython3",
   "version": "3.6.7"
  }
 },
 "nbformat": 4,
 "nbformat_minor": 4
}
