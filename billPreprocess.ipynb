{
 "cells": [
  {
   "cell_type": "markdown",
   "metadata": {},
   "source": [
    "# Pre-process Bills\n",
    "\n",
    "Write cleaned (stopped, lemmatized, lowercased) bill data to space-separated tokens in a file, to avoid repeating NLP parsing."
   ]
  },
  {
   "cell_type": "code",
   "execution_count": 2,
   "metadata": {},
   "outputs": [],
   "source": [
    "%load_ext autoreload\n",
    "%autoreload 2"
   ]
  },
  {
   "cell_type": "code",
   "execution_count": 8,
   "metadata": {},
   "outputs": [],
   "source": [
    "import glob\n",
    "import moods\n",
    "import gzip\n",
    "import random\n",
    "import pandas as pd\n",
    "billpaths = glob.glob('/data/bills/txt/*')\n",
    "random.shuffle(billpaths)"
   ]
  },
  {
   "cell_type": "markdown",
   "metadata": {},
   "source": [
    "# Write cleaned sections to file\n",
    "\n",
    "Parse bills, stoplist, and write whitespace-joined versions of the text to file."
   ]
  },
  {
   "cell_type": "code",
   "execution_count": null,
   "metadata": {},
   "outputs": [],
   "source": [
    "with gzip.open('/data/bills/cleaned/by_para.gz', 'wb') as f, gzip.open('/data/bills/cleaned/nouns_by_para.gz', 'wb') as f2:\n",
    "    for path in billpaths:\n",
    "        b = moods.Bill(path)\n",
    "        for i, line in enumerate(b.lines(nlp_doc=True)):\n",
    "                l = moods.clean_words(line)\n",
    "                out = \"%s_%d\\t%s\\n\" %(b.name, i, \" \".join(l))\n",
    "                f.write(out.encode('utf-8'))\n",
    "                \n",
    "                # WRITE NOUN-ONLY VERSION\n",
    "                l2 = moods.clean_words(line, pos=['NOUN', 'PROPN'])\n",
    "                out2 = \"%s_%d\\t%s\\n\" %(b.name, i, \" \".join(l2))\n",
    "                f2.write(out2.encode('utf-8'))"
   ]
  },
  {
   "cell_type": "code",
   "execution_count": 19,
   "metadata": {},
   "outputs": [
    {
     "name": "stdout",
     "output_type": "stream",
     "text": [
      "b'115_H-R-_4840_0\\t115th congress public law public law 115th congress act designate facility united states postal service locate east franklin street oviedo florida sergeant class alwyn crendall cashe post office building note july enact senate house representatives united states america congress assemble section sergeant class alwyn crendall cashe post office building\\n'\n"
     ]
    }
   ],
   "source": [
    "with gzip.open('/data/bills/cleaned/cleaned_by_para.gz', 'rb') as f:\n",
    "    for f in f.readlines():\n",
    "        print(f)\n",
    "        break"
   ]
  },
  {
   "cell_type": "markdown",
   "metadata": {},
   "source": [
    "## Save folded lists (by bill, by sponsor, by congress)"
   ]
  },
  {
   "cell_type": "code",
   "execution_count": 58,
   "metadata": {},
   "outputs": [
    {
     "data": {
      "text/html": [
       "<div>\n",
       "<style scoped>\n",
       "    .dataframe tbody tr th:only-of-type {\n",
       "        vertical-align: middle;\n",
       "    }\n",
       "\n",
       "    .dataframe tbody tr th {\n",
       "        vertical-align: top;\n",
       "    }\n",
       "\n",
       "    .dataframe thead th {\n",
       "        text-align: right;\n",
       "    }\n",
       "</style>\n",
       "<table border=\"1\" class=\"dataframe\">\n",
       "  <thead>\n",
       "    <tr style=\"text-align: right;\">\n",
       "      <th></th>\n",
       "      <th>name</th>\n",
       "      <th>txt</th>\n",
       "      <th>congress</th>\n",
       "      <th>sponsor</th>\n",
       "      <th>billno</th>\n",
       "      <th>part</th>\n",
       "      <th>title</th>\n",
       "    </tr>\n",
       "  </thead>\n",
       "  <tbody>\n",
       "    <tr>\n",
       "      <th>0</th>\n",
       "      <td>115_H-R-_4840_0</td>\n",
       "      <td>115th congress public law public law 115th con...</td>\n",
       "      <td>115</td>\n",
       "      <td>H-R-</td>\n",
       "      <td>4840</td>\n",
       "      <td>0</td>\n",
       "      <td>115_H-R-_4840</td>\n",
       "    </tr>\n",
       "    <tr>\n",
       "      <th>1</th>\n",
       "      <td>115_H-R-_4840_1</td>\n",
       "      <td>designation facility united states postal serv...</td>\n",
       "      <td>115</td>\n",
       "      <td>H-R-</td>\n",
       "      <td>4840</td>\n",
       "      <td>1</td>\n",
       "      <td>115_H-R-_4840</td>\n",
       "    </tr>\n",
       "    <tr>\n",
       "      <th>2</th>\n",
       "      <td>115_H-R-_4840_2</td>\n",
       "      <td>shall deem reference sergeant class alwyn cren...</td>\n",
       "      <td>115</td>\n",
       "      <td>H-R-</td>\n",
       "      <td>4840</td>\n",
       "      <td>2</td>\n",
       "      <td>115_H-R-_4840</td>\n",
       "    </tr>\n",
       "    <tr>\n",
       "      <th>3</th>\n",
       "      <td>115_H-R-_4840_3</td>\n",
       "      <td>congressional record vol consider pass house j...</td>\n",
       "      <td>115</td>\n",
       "      <td>H-R-</td>\n",
       "      <td>4840</td>\n",
       "      <td>3</td>\n",
       "      <td>115_H-R-_4840</td>\n",
       "    </tr>\n",
       "    <tr>\n",
       "      <th>4</th>\n",
       "      <td>115_H-R-_4840_4</td>\n",
       "      <td>NaN</td>\n",
       "      <td>115</td>\n",
       "      <td>H-R-</td>\n",
       "      <td>4840</td>\n",
       "      <td>4</td>\n",
       "      <td>115_H-R-_4840</td>\n",
       "    </tr>\n",
       "  </tbody>\n",
       "</table>\n",
       "</div>"
      ],
      "text/plain": [
       "              name                                                txt  \\\n",
       "0  115_H-R-_4840_0  115th congress public law public law 115th con...   \n",
       "1  115_H-R-_4840_1  designation facility united states postal serv...   \n",
       "2  115_H-R-_4840_2  shall deem reference sergeant class alwyn cren...   \n",
       "3  115_H-R-_4840_3  congressional record vol consider pass house j...   \n",
       "4  115_H-R-_4840_4                                                NaN   \n",
       "\n",
       "  congress sponsor billno part          title  \n",
       "0      115    H-R-   4840    0  115_H-R-_4840  \n",
       "1      115    H-R-   4840    1  115_H-R-_4840  \n",
       "2      115    H-R-   4840    2  115_H-R-_4840  \n",
       "3      115    H-R-   4840    3  115_H-R-_4840  \n",
       "4      115    H-R-   4840    4  115_H-R-_4840  "
      ]
     },
     "execution_count": 58,
     "metadata": {},
     "output_type": "execute_result"
    }
   ],
   "source": [
    "df = pd.read_csv('/data/bills/cleaned/by_para.gz', sep='\\t', names=['name', 'txt'])\n",
    "df[['congress', 'sponsor', 'billno', 'part']] = df.name.str.split('_', expand=True)\n",
    "df['title'] = df.congress + '_' + df.sponsor + '_' + df.billno\n",
    "for n in ['title', 'congress', 'sponsor', 'part']:\n",
    "    tmp = df.groupby(n).apply(lambda x: \" \".join(x.txt.fillna(''))).reset_index()\n",
    "    tmp.to_csv('/data/bills/cleaned/by_%s.gz' % n, compression='gzip', sep='\\t', index=False, header=False)"
   ]
  },
  {
   "cell_type": "code",
   "execution_count": 10,
   "metadata": {},
   "outputs": [],
   "source": [
    "# Save noun-only version\n",
    "f = pd.read_csv('/data/bills/cleaned/nouns_by_para.gz', sep='\\t', names=['name', 'txt'])\n",
    "df[['congress', 'sponsor', 'billno', 'part']] = df.name.str.split('_', expand=True)\n",
    "df['title'] = df.congress + '_' + df.sponsor + '_' + df.billno\n",
    "for n in ['title', 'congress', 'sponsor', 'part']:\n",
    "    tmp = df.groupby(n).apply(lambda x: \" \".join(x.txt.fillna(''))).reset_index()\n",
    "    tmp.to_csv('/data/bills/cleaned/nouns_by_%s.gz' % n, compression='gzip', sep='\\t', index=False, header=False)"
   ]
  }
 ],
 "metadata": {
  "kernelspec": {
   "display_name": "Python 3",
   "language": "python",
   "name": "python3"
  },
  "language_info": {
   "codemirror_mode": {
    "name": "ipython",
    "version": 3
   },
   "file_extension": ".py",
   "mimetype": "text/x-python",
   "name": "python",
   "nbconvert_exporter": "python",
   "pygments_lexer": "ipython3",
   "version": "3.6.7"
  }
 },
 "nbformat": 4,
 "nbformat_minor": 4
}
